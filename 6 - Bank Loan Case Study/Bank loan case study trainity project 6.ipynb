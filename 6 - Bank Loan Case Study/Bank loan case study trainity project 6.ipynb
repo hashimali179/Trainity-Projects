{
 "cells": [
  {
   "cell_type": "markdown",
   "id": "fe31709d",
   "metadata": {},
   "source": [
    "# Problem Statement"
   ]
  },
  {
   "cell_type": "markdown",
   "id": "d50c876c",
   "metadata": {},
   "source": [
    "In this case study, we focus to perform EDA using visualizations and statistics summaries on loan application data. We need to find out what factors affect an applicant to be a defaulter or non-defaulter."
   ]
  },
  {
   "cell_type": "markdown",
   "id": "2e1db46e",
   "metadata": {},
   "source": [
    "# Approach"
   ]
  },
  {
   "cell_type": "markdown",
   "id": "65225418",
   "metadata": {},
   "source": [
    "For EDA we will try to follow the bolow steps:\n",
    "1) Import Modules\n",
    "\n",
    "2) Read the dataset\n",
    "\n",
    "3) Data Cleaning\n",
    "\n",
    "    On previous_application dataframe\n",
    "    \n",
    "        a) Missing value handling\n",
    "            i) identifying missing data\n",
    "            ii) Dropping missing data\n",
    "        b) Outlier Analysis\n",
    "    On application_data dataframe\n",
    "    \n",
    "        a) Missing value handling\n",
    "            i) identifying missing data\n",
    "            ii) Dropping missing data\n",
    "    c) Data Imbalance\n",
    "    \n",
    "4) Analysis of different variables in segments :-\n",
    "\n",
    "    a) Segment 1\n",
    "    \n",
    "    b) Segment 2\n",
    "    \n",
    "    c) Segment 3\n",
    "    \n",
    "    d) Segment 4\n",
    "    \n",
    "    e) Segment 5\n",
    " \n",
    "5) Correlation\n",
    "\n",
    "    a) Top 5 correlation for defaulters\n",
    "    \n",
    "    b) Top 5 correlations for non-defaulters\n",
    "    \n",
    "6) Summary"
   ]
  },
  {
   "cell_type": "markdown",
   "id": "5ce458e2",
   "metadata": {},
   "source": [
    "# 1) Import Modules"
   ]
  },
  {
   "cell_type": "markdown",
   "id": "f850cc8d",
   "metadata": {},
   "source": [
    "Let's import libraries for EDA"
   ]
  },
  {
   "cell_type": "code",
   "execution_count": 1,
   "id": "48d72681",
   "metadata": {},
   "outputs": [],
   "source": [
    "import numpy as np\n",
    "import pandas as pd\n",
    "import matplotlib.pyplot as plt\n",
    "import seaborn as sns \n",
    "%matplotlib inline\n",
    "import warnings\n",
    "warnings.filterwarnings(\"ignore\")\n"
   ]
  },
  {
   "cell_type": "markdown",
   "id": "46a89d22",
   "metadata": {},
   "source": [
    "Import our dataset as datframes using pandas library"
   ]
  },
  {
   "cell_type": "markdown",
   "id": "a16f432f",
   "metadata": {},
   "source": [
    "# 2) Read Datasets"
   ]
  },
  {
   "cell_type": "code",
   "execution_count": 2,
   "id": "139eef78",
   "metadata": {},
   "outputs": [],
   "source": [
    "# reading application_data.csv\n",
    "application_df = pd.read_csv('project 6 file 3.csv')\n",
    "# reading previous_application.csv\n",
    "prev_ap_df = pd.read_csv('project 6 file 1.csv')"
   ]
  },
  {
   "cell_type": "code",
   "execution_count": 3,
   "id": "a26755bb",
   "metadata": {},
   "outputs": [
    {
     "name": "stdout",
     "output_type": "stream",
     "text": [
      "(307511, 122)\n",
      "(1670214, 37)\n"
     ]
    }
   ],
   "source": [
    "print(application_df.shape)\n",
    "print(prev_ap_df.shape)"
   ]
  },
  {
   "cell_type": "markdown",
   "id": "169eab50",
   "metadata": {},
   "source": [
    "Lets check all features and it's datatypes"
   ]
  },
  {
   "cell_type": "code",
   "execution_count": 4,
   "id": "69d14865",
   "metadata": {},
   "outputs": [
    {
     "name": "stdout",
     "output_type": "stream",
     "text": [
      "<class 'pandas.core.frame.DataFrame'>\n",
      "RangeIndex: 307511 entries, 0 to 307510\n",
      "Columns: 122 entries, SK_ID_CURR to AMT_REQ_CREDIT_BUREAU_YEAR\n",
      "dtypes: float64(65), int64(41), object(16)\n",
      "memory usage: 286.2+ MB\n"
     ]
    }
   ],
   "source": [
    "application_df.info()"
   ]
  },
  {
   "cell_type": "code",
   "execution_count": 5,
   "id": "cf5f5cc8",
   "metadata": {},
   "outputs": [
    {
     "name": "stdout",
     "output_type": "stream",
     "text": [
      "<class 'pandas.core.frame.DataFrame'>\n",
      "RangeIndex: 1670214 entries, 0 to 1670213\n",
      "Data columns (total 37 columns):\n",
      " #   Column                       Non-Null Count    Dtype  \n",
      "---  ------                       --------------    -----  \n",
      " 0   SK_ID_PREV                   1670214 non-null  int64  \n",
      " 1   SK_ID_CURR                   1670214 non-null  int64  \n",
      " 2   NAME_CONTRACT_TYPE           1670214 non-null  object \n",
      " 3   AMT_ANNUITY                  1297979 non-null  float64\n",
      " 4   AMT_APPLICATION              1670214 non-null  float64\n",
      " 5   AMT_CREDIT                   1670213 non-null  float64\n",
      " 6   AMT_DOWN_PAYMENT             774370 non-null   float64\n",
      " 7   AMT_GOODS_PRICE              1284699 non-null  float64\n",
      " 8   WEEKDAY_APPR_PROCESS_START   1670214 non-null  object \n",
      " 9   HOUR_APPR_PROCESS_START      1670214 non-null  int64  \n",
      " 10  FLAG_LAST_APPL_PER_CONTRACT  1670214 non-null  object \n",
      " 11  NFLAG_LAST_APPL_IN_DAY       1670214 non-null  int64  \n",
      " 12  RATE_DOWN_PAYMENT            774370 non-null   float64\n",
      " 13  RATE_INTEREST_PRIMARY        5951 non-null     float64\n",
      " 14  RATE_INTEREST_PRIVILEGED     5951 non-null     float64\n",
      " 15  NAME_CASH_LOAN_PURPOSE       1670214 non-null  object \n",
      " 16  NAME_CONTRACT_STATUS         1670214 non-null  object \n",
      " 17  DAYS_DECISION                1670214 non-null  int64  \n",
      " 18  NAME_PAYMENT_TYPE            1670214 non-null  object \n",
      " 19  CODE_REJECT_REASON           1670214 non-null  object \n",
      " 20  NAME_TYPE_SUITE              849809 non-null   object \n",
      " 21  NAME_CLIENT_TYPE             1670214 non-null  object \n",
      " 22  NAME_GOODS_CATEGORY          1670214 non-null  object \n",
      " 23  NAME_PORTFOLIO               1670214 non-null  object \n",
      " 24  NAME_PRODUCT_TYPE            1670214 non-null  object \n",
      " 25  CHANNEL_TYPE                 1670214 non-null  object \n",
      " 26  SELLERPLACE_AREA             1670214 non-null  int64  \n",
      " 27  NAME_SELLER_INDUSTRY         1670214 non-null  object \n",
      " 28  CNT_PAYMENT                  1297984 non-null  float64\n",
      " 29  NAME_YIELD_GROUP             1670214 non-null  object \n",
      " 30  PRODUCT_COMBINATION          1669868 non-null  object \n",
      " 31  DAYS_FIRST_DRAWING           997149 non-null   float64\n",
      " 32  DAYS_FIRST_DUE               997149 non-null   float64\n",
      " 33  DAYS_LAST_DUE_1ST_VERSION    997149 non-null   float64\n",
      " 34  DAYS_LAST_DUE                997149 non-null   float64\n",
      " 35  DAYS_TERMINATION             997149 non-null   float64\n",
      " 36  NFLAG_INSURED_ON_APPROVAL    997149 non-null   float64\n",
      "dtypes: float64(15), int64(6), object(16)\n",
      "memory usage: 471.5+ MB\n"
     ]
    }
   ],
   "source": [
    "prev_ap_df.info()"
   ]
  },
  {
   "cell_type": "markdown",
   "id": "d8b75ed6",
   "metadata": {},
   "source": [
    "### Insights\n",
    "<ol>\n",
    "    <li><p>prev_ap_df contains 37 features and 1670214 rows.</p>\n",
    "    <p>Out of which 15 are float64, 6 are int64 and 16 are object datatype.</p></li>\n",
    "    <li><p>application_df contains 121 features, 1 target variable, and 307511 rows.</p>\n",
    "    <p>Out of which 65 are float64, 41 are integer, 16 are object datatype</p></li>\n",
    "</ol>"
   ]
  },
  {
   "cell_type": "code",
   "execution_count": 6,
   "id": "8c4de9ec",
   "metadata": {},
   "outputs": [
    {
     "name": "stdout",
     "output_type": "stream",
     "text": [
      "114\n",
      "8\n",
      "['SK_ID_CURR', 'NAME_CONTRACT_TYPE', 'AMT_CREDIT', 'AMT_ANNUITY', 'AMT_GOODS_PRICE', 'NAME_TYPE_SUITE', 'WEEKDAY_APPR_PROCESS_START', 'HOUR_APPR_PROCESS_START']\n"
     ]
    }
   ],
   "source": [
    "# We will try to store lists of columns that are common in both dataframes and additional in any of them \n",
    "additional_feat = []\n",
    "common_feat = []\n",
    "\n",
    "for col in application_df.columns:\n",
    "    if col in prev_ap_df.columns:\n",
    "        common_feat.append(col)\n",
    "    else:\n",
    "        additional_feat.append(col)\n",
    "        \n",
    "print(len(additional_feat))\n",
    "print(len(common_feat))\n",
    "print(common_feat)"
   ]
  },
  {
   "cell_type": "markdown",
   "id": "c47a477d",
   "metadata": {},
   "source": [
    "### Insights\n",
    "<ol>\n",
    "    <li><p>There are 8 columns that are present in both dataframes</p></li>\n",
    "    <li><p>SK_ID_CURR is the unique identifyer in both dataframe that we will use to merge both dataframes.</p></li>\n",
    "</ol>"
   ]
  },
  {
   "cell_type": "markdown",
   "id": "d117d3d8",
   "metadata": {},
   "source": [
    "# 3) Data Cleaning"
   ]
  },
  {
   "cell_type": "markdown",
   "id": "377f0b91",
   "metadata": {},
   "source": [
    "## Firstly I will try to perform data cleaning on the 'prev_ap_df'"
   ]
  },
  {
   "cell_type": "markdown",
   "id": "dd70221e",
   "metadata": {},
   "source": [
    "### a) Missing value handling"
   ]
  },
  {
   "cell_type": "markdown",
   "id": "1b1b7207",
   "metadata": {},
   "source": [
    "i) Identifying Missing Data"
   ]
  },
  {
   "cell_type": "code",
   "execution_count": 7,
   "id": "d65bfc3d",
   "metadata": {},
   "outputs": [],
   "source": [
    "# define a function that has one arguement as dataframe\n",
    "def missingdata_percentage(df):\n",
    "    # create an empty dataframe with two columns\n",
    "    missing = pd.DataFrame(columns=['category','percentage'])\n",
    "    # iterate through all the columns of dataframe\n",
    "    for col in df.columns:\n",
    "        # a conditional statement that only passes those columns that have at least 1 missing value\n",
    "        if df[col].isna().values.any():\n",
    "            # calulate the percentage of null values in that particular column\n",
    "            percentage = 100*df[col].isna().sum()/df.shape[0]\n",
    "            # append that column into to empty dataframe we created earlier\n",
    "            missing = missing.append({'category' : col, 'percentage' : percentage}, ignore_index=True)\n",
    "    # return the dataframe we created\n",
    "    return missing"
   ]
  },
  {
   "cell_type": "code",
   "execution_count": 8,
   "id": "a316f858",
   "metadata": {},
   "outputs": [],
   "source": [
    "missingdata_prev = missingdata_percentage(prev_ap_df)"
   ]
  },
  {
   "cell_type": "code",
   "execution_count": 9,
   "id": "09edf073",
   "metadata": {},
   "outputs": [
    {
     "data": {
      "text/html": [
       "<div>\n",
       "<style scoped>\n",
       "    .dataframe tbody tr th:only-of-type {\n",
       "        vertical-align: middle;\n",
       "    }\n",
       "\n",
       "    .dataframe tbody tr th {\n",
       "        vertical-align: top;\n",
       "    }\n",
       "\n",
       "    .dataframe thead th {\n",
       "        text-align: right;\n",
       "    }\n",
       "</style>\n",
       "<table border=\"1\" class=\"dataframe\">\n",
       "  <thead>\n",
       "    <tr style=\"text-align: right;\">\n",
       "      <th></th>\n",
       "      <th>category</th>\n",
       "      <th>percentage</th>\n",
       "    </tr>\n",
       "  </thead>\n",
       "  <tbody>\n",
       "    <tr>\n",
       "      <th>5</th>\n",
       "      <td>RATE_INTEREST_PRIMARY</td>\n",
       "      <td>99.643698</td>\n",
       "    </tr>\n",
       "    <tr>\n",
       "      <th>6</th>\n",
       "      <td>RATE_INTEREST_PRIVILEGED</td>\n",
       "      <td>99.643698</td>\n",
       "    </tr>\n",
       "    <tr>\n",
       "      <th>2</th>\n",
       "      <td>AMT_DOWN_PAYMENT</td>\n",
       "      <td>53.636480</td>\n",
       "    </tr>\n",
       "    <tr>\n",
       "      <th>4</th>\n",
       "      <td>RATE_DOWN_PAYMENT</td>\n",
       "      <td>53.636480</td>\n",
       "    </tr>\n",
       "    <tr>\n",
       "      <th>7</th>\n",
       "      <td>NAME_TYPE_SUITE</td>\n",
       "      <td>49.119754</td>\n",
       "    </tr>\n",
       "    <tr>\n",
       "      <th>10</th>\n",
       "      <td>DAYS_FIRST_DRAWING</td>\n",
       "      <td>40.298129</td>\n",
       "    </tr>\n",
       "    <tr>\n",
       "      <th>11</th>\n",
       "      <td>DAYS_FIRST_DUE</td>\n",
       "      <td>40.298129</td>\n",
       "    </tr>\n",
       "    <tr>\n",
       "      <th>12</th>\n",
       "      <td>DAYS_LAST_DUE_1ST_VERSION</td>\n",
       "      <td>40.298129</td>\n",
       "    </tr>\n",
       "    <tr>\n",
       "      <th>13</th>\n",
       "      <td>DAYS_LAST_DUE</td>\n",
       "      <td>40.298129</td>\n",
       "    </tr>\n",
       "    <tr>\n",
       "      <th>14</th>\n",
       "      <td>DAYS_TERMINATION</td>\n",
       "      <td>40.298129</td>\n",
       "    </tr>\n",
       "    <tr>\n",
       "      <th>15</th>\n",
       "      <td>NFLAG_INSURED_ON_APPROVAL</td>\n",
       "      <td>40.298129</td>\n",
       "    </tr>\n",
       "    <tr>\n",
       "      <th>3</th>\n",
       "      <td>AMT_GOODS_PRICE</td>\n",
       "      <td>23.081773</td>\n",
       "    </tr>\n",
       "    <tr>\n",
       "      <th>0</th>\n",
       "      <td>AMT_ANNUITY</td>\n",
       "      <td>22.286665</td>\n",
       "    </tr>\n",
       "    <tr>\n",
       "      <th>8</th>\n",
       "      <td>CNT_PAYMENT</td>\n",
       "      <td>22.286366</td>\n",
       "    </tr>\n",
       "    <tr>\n",
       "      <th>9</th>\n",
       "      <td>PRODUCT_COMBINATION</td>\n",
       "      <td>0.020716</td>\n",
       "    </tr>\n",
       "    <tr>\n",
       "      <th>1</th>\n",
       "      <td>AMT_CREDIT</td>\n",
       "      <td>0.000060</td>\n",
       "    </tr>\n",
       "  </tbody>\n",
       "</table>\n",
       "</div>"
      ],
      "text/plain": [
       "                     category  percentage\n",
       "5       RATE_INTEREST_PRIMARY   99.643698\n",
       "6    RATE_INTEREST_PRIVILEGED   99.643698\n",
       "2            AMT_DOWN_PAYMENT   53.636480\n",
       "4           RATE_DOWN_PAYMENT   53.636480\n",
       "7             NAME_TYPE_SUITE   49.119754\n",
       "10         DAYS_FIRST_DRAWING   40.298129\n",
       "11             DAYS_FIRST_DUE   40.298129\n",
       "12  DAYS_LAST_DUE_1ST_VERSION   40.298129\n",
       "13              DAYS_LAST_DUE   40.298129\n",
       "14           DAYS_TERMINATION   40.298129\n",
       "15  NFLAG_INSURED_ON_APPROVAL   40.298129\n",
       "3             AMT_GOODS_PRICE   23.081773\n",
       "0                 AMT_ANNUITY   22.286665\n",
       "8                 CNT_PAYMENT   22.286366\n",
       "9         PRODUCT_COMBINATION    0.020716\n",
       "1                  AMT_CREDIT    0.000060"
      ]
     },
     "execution_count": 9,
     "metadata": {},
     "output_type": "execute_result"
    }
   ],
   "source": [
    "missingdata_prev.sort_values('percentage', ascending=False)"
   ]
  },
  {
   "cell_type": "markdown",
   "id": "00c0cb4b",
   "metadata": {},
   "source": [
    "### Insights\n",
    "\n",
    "There are 16 features in prev_app_df that have missing values.\n",
    "<ul>\n",
    "<li>Permanently dropping the features (RATE_INTEREST_PRIMARY and RATE_INTEREST_PRIVILEGED) as 99% data is missing.</li>\n",
    "\n",
    "<li>Dropping rows containing missing values for the features(AMT_CREDIT and PRODUCT_COMBINATION) for very low % of missing data.</li>\n",
    "\n",
    "<li>Dropping entries would not cause impact the analysis as percentage of missing value is very low (~2%).</li>\n",
    "</ul>"
   ]
  },
  {
   "cell_type": "markdown",
   "id": "b7fece35",
   "metadata": {},
   "source": [
    "ii) Dropping missing data"
   ]
  },
  {
   "cell_type": "code",
   "execution_count": 10,
   "id": "56f2eb37",
   "metadata": {
    "scrolled": true
   },
   "outputs": [
    {
     "data": {
      "text/html": [
       "<div>\n",
       "<style scoped>\n",
       "    .dataframe tbody tr th:only-of-type {\n",
       "        vertical-align: middle;\n",
       "    }\n",
       "\n",
       "    .dataframe tbody tr th {\n",
       "        vertical-align: top;\n",
       "    }\n",
       "\n",
       "    .dataframe thead th {\n",
       "        text-align: right;\n",
       "    }\n",
       "</style>\n",
       "<table border=\"1\" class=\"dataframe\">\n",
       "  <thead>\n",
       "    <tr style=\"text-align: right;\">\n",
       "      <th></th>\n",
       "      <th>SK_ID_PREV</th>\n",
       "      <th>SK_ID_CURR</th>\n",
       "      <th>NAME_CONTRACT_TYPE</th>\n",
       "      <th>AMT_ANNUITY</th>\n",
       "      <th>AMT_APPLICATION</th>\n",
       "      <th>AMT_CREDIT</th>\n",
       "      <th>AMT_DOWN_PAYMENT</th>\n",
       "      <th>AMT_GOODS_PRICE</th>\n",
       "      <th>WEEKDAY_APPR_PROCESS_START</th>\n",
       "      <th>HOUR_APPR_PROCESS_START</th>\n",
       "      <th>...</th>\n",
       "      <th>NAME_SELLER_INDUSTRY</th>\n",
       "      <th>CNT_PAYMENT</th>\n",
       "      <th>NAME_YIELD_GROUP</th>\n",
       "      <th>PRODUCT_COMBINATION</th>\n",
       "      <th>DAYS_FIRST_DRAWING</th>\n",
       "      <th>DAYS_FIRST_DUE</th>\n",
       "      <th>DAYS_LAST_DUE_1ST_VERSION</th>\n",
       "      <th>DAYS_LAST_DUE</th>\n",
       "      <th>DAYS_TERMINATION</th>\n",
       "      <th>NFLAG_INSURED_ON_APPROVAL</th>\n",
       "    </tr>\n",
       "  </thead>\n",
       "  <tbody>\n",
       "    <tr>\n",
       "      <th>0</th>\n",
       "      <td>2030495</td>\n",
       "      <td>271877</td>\n",
       "      <td>Consumer loans</td>\n",
       "      <td>1730.430</td>\n",
       "      <td>17145.0</td>\n",
       "      <td>17145.0</td>\n",
       "      <td>0.0</td>\n",
       "      <td>17145.0</td>\n",
       "      <td>SATURDAY</td>\n",
       "      <td>15</td>\n",
       "      <td>...</td>\n",
       "      <td>Connectivity</td>\n",
       "      <td>12.0</td>\n",
       "      <td>middle</td>\n",
       "      <td>POS mobile with interest</td>\n",
       "      <td>365243.0</td>\n",
       "      <td>-42.0</td>\n",
       "      <td>300.0</td>\n",
       "      <td>-42.0</td>\n",
       "      <td>-37.0</td>\n",
       "      <td>0.0</td>\n",
       "    </tr>\n",
       "    <tr>\n",
       "      <th>1</th>\n",
       "      <td>2802425</td>\n",
       "      <td>108129</td>\n",
       "      <td>Cash loans</td>\n",
       "      <td>25188.615</td>\n",
       "      <td>607500.0</td>\n",
       "      <td>679671.0</td>\n",
       "      <td>NaN</td>\n",
       "      <td>607500.0</td>\n",
       "      <td>THURSDAY</td>\n",
       "      <td>11</td>\n",
       "      <td>...</td>\n",
       "      <td>XNA</td>\n",
       "      <td>36.0</td>\n",
       "      <td>low_action</td>\n",
       "      <td>Cash X-Sell: low</td>\n",
       "      <td>365243.0</td>\n",
       "      <td>-134.0</td>\n",
       "      <td>916.0</td>\n",
       "      <td>365243.0</td>\n",
       "      <td>365243.0</td>\n",
       "      <td>1.0</td>\n",
       "    </tr>\n",
       "    <tr>\n",
       "      <th>2</th>\n",
       "      <td>2523466</td>\n",
       "      <td>122040</td>\n",
       "      <td>Cash loans</td>\n",
       "      <td>15060.735</td>\n",
       "      <td>112500.0</td>\n",
       "      <td>136444.5</td>\n",
       "      <td>NaN</td>\n",
       "      <td>112500.0</td>\n",
       "      <td>TUESDAY</td>\n",
       "      <td>11</td>\n",
       "      <td>...</td>\n",
       "      <td>XNA</td>\n",
       "      <td>12.0</td>\n",
       "      <td>high</td>\n",
       "      <td>Cash X-Sell: high</td>\n",
       "      <td>365243.0</td>\n",
       "      <td>-271.0</td>\n",
       "      <td>59.0</td>\n",
       "      <td>365243.0</td>\n",
       "      <td>365243.0</td>\n",
       "      <td>1.0</td>\n",
       "    </tr>\n",
       "    <tr>\n",
       "      <th>3</th>\n",
       "      <td>2819243</td>\n",
       "      <td>176158</td>\n",
       "      <td>Cash loans</td>\n",
       "      <td>47041.335</td>\n",
       "      <td>450000.0</td>\n",
       "      <td>470790.0</td>\n",
       "      <td>NaN</td>\n",
       "      <td>450000.0</td>\n",
       "      <td>MONDAY</td>\n",
       "      <td>7</td>\n",
       "      <td>...</td>\n",
       "      <td>XNA</td>\n",
       "      <td>12.0</td>\n",
       "      <td>middle</td>\n",
       "      <td>Cash X-Sell: middle</td>\n",
       "      <td>365243.0</td>\n",
       "      <td>-482.0</td>\n",
       "      <td>-152.0</td>\n",
       "      <td>-182.0</td>\n",
       "      <td>-177.0</td>\n",
       "      <td>1.0</td>\n",
       "    </tr>\n",
       "    <tr>\n",
       "      <th>4</th>\n",
       "      <td>1784265</td>\n",
       "      <td>202054</td>\n",
       "      <td>Cash loans</td>\n",
       "      <td>31924.395</td>\n",
       "      <td>337500.0</td>\n",
       "      <td>404055.0</td>\n",
       "      <td>NaN</td>\n",
       "      <td>337500.0</td>\n",
       "      <td>THURSDAY</td>\n",
       "      <td>9</td>\n",
       "      <td>...</td>\n",
       "      <td>XNA</td>\n",
       "      <td>24.0</td>\n",
       "      <td>high</td>\n",
       "      <td>Cash Street: high</td>\n",
       "      <td>NaN</td>\n",
       "      <td>NaN</td>\n",
       "      <td>NaN</td>\n",
       "      <td>NaN</td>\n",
       "      <td>NaN</td>\n",
       "      <td>NaN</td>\n",
       "    </tr>\n",
       "    <tr>\n",
       "      <th>...</th>\n",
       "      <td>...</td>\n",
       "      <td>...</td>\n",
       "      <td>...</td>\n",
       "      <td>...</td>\n",
       "      <td>...</td>\n",
       "      <td>...</td>\n",
       "      <td>...</td>\n",
       "      <td>...</td>\n",
       "      <td>...</td>\n",
       "      <td>...</td>\n",
       "      <td>...</td>\n",
       "      <td>...</td>\n",
       "      <td>...</td>\n",
       "      <td>...</td>\n",
       "      <td>...</td>\n",
       "      <td>...</td>\n",
       "      <td>...</td>\n",
       "      <td>...</td>\n",
       "      <td>...</td>\n",
       "      <td>...</td>\n",
       "      <td>...</td>\n",
       "    </tr>\n",
       "    <tr>\n",
       "      <th>1670209</th>\n",
       "      <td>2300464</td>\n",
       "      <td>352015</td>\n",
       "      <td>Consumer loans</td>\n",
       "      <td>14704.290</td>\n",
       "      <td>267295.5</td>\n",
       "      <td>311400.0</td>\n",
       "      <td>0.0</td>\n",
       "      <td>267295.5</td>\n",
       "      <td>WEDNESDAY</td>\n",
       "      <td>12</td>\n",
       "      <td>...</td>\n",
       "      <td>Furniture</td>\n",
       "      <td>30.0</td>\n",
       "      <td>low_normal</td>\n",
       "      <td>POS industry with interest</td>\n",
       "      <td>365243.0</td>\n",
       "      <td>-508.0</td>\n",
       "      <td>362.0</td>\n",
       "      <td>-358.0</td>\n",
       "      <td>-351.0</td>\n",
       "      <td>0.0</td>\n",
       "    </tr>\n",
       "    <tr>\n",
       "      <th>1670210</th>\n",
       "      <td>2357031</td>\n",
       "      <td>334635</td>\n",
       "      <td>Consumer loans</td>\n",
       "      <td>6622.020</td>\n",
       "      <td>87750.0</td>\n",
       "      <td>64291.5</td>\n",
       "      <td>29250.0</td>\n",
       "      <td>87750.0</td>\n",
       "      <td>TUESDAY</td>\n",
       "      <td>15</td>\n",
       "      <td>...</td>\n",
       "      <td>Furniture</td>\n",
       "      <td>12.0</td>\n",
       "      <td>middle</td>\n",
       "      <td>POS industry with interest</td>\n",
       "      <td>365243.0</td>\n",
       "      <td>-1604.0</td>\n",
       "      <td>-1274.0</td>\n",
       "      <td>-1304.0</td>\n",
       "      <td>-1297.0</td>\n",
       "      <td>0.0</td>\n",
       "    </tr>\n",
       "    <tr>\n",
       "      <th>1670211</th>\n",
       "      <td>2659632</td>\n",
       "      <td>249544</td>\n",
       "      <td>Consumer loans</td>\n",
       "      <td>11520.855</td>\n",
       "      <td>105237.0</td>\n",
       "      <td>102523.5</td>\n",
       "      <td>10525.5</td>\n",
       "      <td>105237.0</td>\n",
       "      <td>MONDAY</td>\n",
       "      <td>12</td>\n",
       "      <td>...</td>\n",
       "      <td>Consumer electronics</td>\n",
       "      <td>10.0</td>\n",
       "      <td>low_normal</td>\n",
       "      <td>POS household with interest</td>\n",
       "      <td>365243.0</td>\n",
       "      <td>-1457.0</td>\n",
       "      <td>-1187.0</td>\n",
       "      <td>-1187.0</td>\n",
       "      <td>-1181.0</td>\n",
       "      <td>0.0</td>\n",
       "    </tr>\n",
       "    <tr>\n",
       "      <th>1670212</th>\n",
       "      <td>2785582</td>\n",
       "      <td>400317</td>\n",
       "      <td>Cash loans</td>\n",
       "      <td>18821.520</td>\n",
       "      <td>180000.0</td>\n",
       "      <td>191880.0</td>\n",
       "      <td>NaN</td>\n",
       "      <td>180000.0</td>\n",
       "      <td>WEDNESDAY</td>\n",
       "      <td>9</td>\n",
       "      <td>...</td>\n",
       "      <td>XNA</td>\n",
       "      <td>12.0</td>\n",
       "      <td>low_normal</td>\n",
       "      <td>Cash X-Sell: low</td>\n",
       "      <td>365243.0</td>\n",
       "      <td>-1155.0</td>\n",
       "      <td>-825.0</td>\n",
       "      <td>-825.0</td>\n",
       "      <td>-817.0</td>\n",
       "      <td>1.0</td>\n",
       "    </tr>\n",
       "    <tr>\n",
       "      <th>1670213</th>\n",
       "      <td>2418762</td>\n",
       "      <td>261212</td>\n",
       "      <td>Cash loans</td>\n",
       "      <td>16431.300</td>\n",
       "      <td>360000.0</td>\n",
       "      <td>360000.0</td>\n",
       "      <td>NaN</td>\n",
       "      <td>360000.0</td>\n",
       "      <td>SUNDAY</td>\n",
       "      <td>10</td>\n",
       "      <td>...</td>\n",
       "      <td>XNA</td>\n",
       "      <td>48.0</td>\n",
       "      <td>middle</td>\n",
       "      <td>Cash X-Sell: middle</td>\n",
       "      <td>365243.0</td>\n",
       "      <td>-1163.0</td>\n",
       "      <td>247.0</td>\n",
       "      <td>-443.0</td>\n",
       "      <td>-423.0</td>\n",
       "      <td>0.0</td>\n",
       "    </tr>\n",
       "  </tbody>\n",
       "</table>\n",
       "<p>1669867 rows × 35 columns</p>\n",
       "</div>"
      ],
      "text/plain": [
       "         SK_ID_PREV  SK_ID_CURR NAME_CONTRACT_TYPE  AMT_ANNUITY  \\\n",
       "0           2030495      271877     Consumer loans     1730.430   \n",
       "1           2802425      108129         Cash loans    25188.615   \n",
       "2           2523466      122040         Cash loans    15060.735   \n",
       "3           2819243      176158         Cash loans    47041.335   \n",
       "4           1784265      202054         Cash loans    31924.395   \n",
       "...             ...         ...                ...          ...   \n",
       "1670209     2300464      352015     Consumer loans    14704.290   \n",
       "1670210     2357031      334635     Consumer loans     6622.020   \n",
       "1670211     2659632      249544     Consumer loans    11520.855   \n",
       "1670212     2785582      400317         Cash loans    18821.520   \n",
       "1670213     2418762      261212         Cash loans    16431.300   \n",
       "\n",
       "         AMT_APPLICATION  AMT_CREDIT  AMT_DOWN_PAYMENT  AMT_GOODS_PRICE  \\\n",
       "0                17145.0     17145.0               0.0          17145.0   \n",
       "1               607500.0    679671.0               NaN         607500.0   \n",
       "2               112500.0    136444.5               NaN         112500.0   \n",
       "3               450000.0    470790.0               NaN         450000.0   \n",
       "4               337500.0    404055.0               NaN         337500.0   \n",
       "...                  ...         ...               ...              ...   \n",
       "1670209         267295.5    311400.0               0.0         267295.5   \n",
       "1670210          87750.0     64291.5           29250.0          87750.0   \n",
       "1670211         105237.0    102523.5           10525.5         105237.0   \n",
       "1670212         180000.0    191880.0               NaN         180000.0   \n",
       "1670213         360000.0    360000.0               NaN         360000.0   \n",
       "\n",
       "        WEEKDAY_APPR_PROCESS_START  HOUR_APPR_PROCESS_START  ...  \\\n",
       "0                         SATURDAY                       15  ...   \n",
       "1                         THURSDAY                       11  ...   \n",
       "2                          TUESDAY                       11  ...   \n",
       "3                           MONDAY                        7  ...   \n",
       "4                         THURSDAY                        9  ...   \n",
       "...                            ...                      ...  ...   \n",
       "1670209                  WEDNESDAY                       12  ...   \n",
       "1670210                    TUESDAY                       15  ...   \n",
       "1670211                     MONDAY                       12  ...   \n",
       "1670212                  WEDNESDAY                        9  ...   \n",
       "1670213                     SUNDAY                       10  ...   \n",
       "\n",
       "         NAME_SELLER_INDUSTRY  CNT_PAYMENT  NAME_YIELD_GROUP  \\\n",
       "0                Connectivity         12.0            middle   \n",
       "1                         XNA         36.0        low_action   \n",
       "2                         XNA         12.0              high   \n",
       "3                         XNA         12.0            middle   \n",
       "4                         XNA         24.0              high   \n",
       "...                       ...          ...               ...   \n",
       "1670209             Furniture         30.0        low_normal   \n",
       "1670210             Furniture         12.0            middle   \n",
       "1670211  Consumer electronics         10.0        low_normal   \n",
       "1670212                   XNA         12.0        low_normal   \n",
       "1670213                   XNA         48.0            middle   \n",
       "\n",
       "                 PRODUCT_COMBINATION DAYS_FIRST_DRAWING  DAYS_FIRST_DUE  \\\n",
       "0           POS mobile with interest           365243.0           -42.0   \n",
       "1                   Cash X-Sell: low           365243.0          -134.0   \n",
       "2                  Cash X-Sell: high           365243.0          -271.0   \n",
       "3                Cash X-Sell: middle           365243.0          -482.0   \n",
       "4                  Cash Street: high                NaN             NaN   \n",
       "...                              ...                ...             ...   \n",
       "1670209   POS industry with interest           365243.0          -508.0   \n",
       "1670210   POS industry with interest           365243.0         -1604.0   \n",
       "1670211  POS household with interest           365243.0         -1457.0   \n",
       "1670212             Cash X-Sell: low           365243.0         -1155.0   \n",
       "1670213          Cash X-Sell: middle           365243.0         -1163.0   \n",
       "\n",
       "        DAYS_LAST_DUE_1ST_VERSION DAYS_LAST_DUE DAYS_TERMINATION  \\\n",
       "0                           300.0         -42.0            -37.0   \n",
       "1                           916.0      365243.0         365243.0   \n",
       "2                            59.0      365243.0         365243.0   \n",
       "3                          -152.0        -182.0           -177.0   \n",
       "4                             NaN           NaN              NaN   \n",
       "...                           ...           ...              ...   \n",
       "1670209                     362.0        -358.0           -351.0   \n",
       "1670210                   -1274.0       -1304.0          -1297.0   \n",
       "1670211                   -1187.0       -1187.0          -1181.0   \n",
       "1670212                    -825.0        -825.0           -817.0   \n",
       "1670213                     247.0        -443.0           -423.0   \n",
       "\n",
       "        NFLAG_INSURED_ON_APPROVAL  \n",
       "0                             0.0  \n",
       "1                             1.0  \n",
       "2                             1.0  \n",
       "3                             1.0  \n",
       "4                             NaN  \n",
       "...                           ...  \n",
       "1670209                       0.0  \n",
       "1670210                       0.0  \n",
       "1670211                       0.0  \n",
       "1670212                       1.0  \n",
       "1670213                       0.0  \n",
       "\n",
       "[1669867 rows x 35 columns]"
      ]
     },
     "execution_count": 10,
     "metadata": {},
     "output_type": "execute_result"
    }
   ],
   "source": [
    "prev_ap_df.drop(['RATE_INTEREST_PRIMARY','RATE_INTEREST_PRIVILEGED'], axis=1, inplace=True)\n",
    "prev_ap_df.dropna(subset=['AMT_CREDIT','PRODUCT_COMBINATION'], inplace=True)\n",
    "\n",
    "#Checking the remaining columns\n",
    "prev_ap_df"
   ]
  },
  {
   "cell_type": "markdown",
   "id": "43909ef2",
   "metadata": {},
   "source": [
    "### B) Outliers Analysis"
   ]
  },
  {
   "cell_type": "code",
   "execution_count": 11,
   "id": "cf6437b0",
   "metadata": {},
   "outputs": [
    {
     "data": {
      "image/png": "[encoded data removed]",
      "text/plain": [
       "<Figure size 720x144 with 1 Axes>"
      ]
     },
     "metadata": {
      "needs_background": "light"
     },
     "output_type": "display_data"
    }
   ],
   "source": [
    "plt.figure(figsize=(10,2))\n",
    "sns.boxplot(prev_ap_df['AMT_DOWN_PAYMENT'])\n",
    "plt.show()"
   ]
  },
  {
   "cell_type": "code",
   "execution_count": 12,
   "id": "5979fb98",
   "metadata": {},
   "outputs": [
    {
     "data": {
      "image/png": "[encoded data removed]",
      "text/plain": [
       "<Figure size 720x144 with 1 Axes>"
      ]
     },
     "metadata": {
      "needs_background": "light"
     },
     "output_type": "display_data"
    }
   ],
   "source": [
    "plt.figure(figsize=(10,2))\n",
    "sns.boxplot(prev_ap_df['AMT_ANNUITY'])\n",
    "plt.show()"
   ]
  },
  {
   "cell_type": "code",
   "execution_count": 13,
   "id": "2951d062",
   "metadata": {},
   "outputs": [],
   "source": [
    "import pandas as pd\n",
    "\n",
    "def remove_outliers(df, column):\n",
    "    \"\"\"\n",
    "    Removes outliers outside of the 99th percentile in a Pandas DataFrame for a given column.\n",
    "    \n",
    "    Parameters:\n",
    "        df (Pandas DataFrame): The DataFrame containing the data.\n",
    "        column (str): The name of the column to remove outliers for.\n",
    "    \n",
    "    Returns:\n",
    "        The DataFrame with outliers removed.\n",
    "    \"\"\"\n",
    "    \n",
    "    # calculate the 99th percentile\n",
    "    perc_99 = df[column].quantile(0.99)\n",
    "    \n",
    "\n",
    "    # remove outliers outside the IQR\n",
    "    df = df[~(df[column] > perc_99)]\n",
    "\n",
    "    return df"
   ]
  },
  {
   "cell_type": "code",
   "execution_count": 14,
   "id": "8a6b4840",
   "metadata": {},
   "outputs": [],
   "source": [
    "prev_ap_df = remove_outliers(prev_ap_df, 'AMT_DOWN_PAYMENT')"
   ]
  },
  {
   "cell_type": "code",
   "execution_count": 15,
   "id": "121cdd40",
   "metadata": {
    "scrolled": true
   },
   "outputs": [
    {
     "data": {
      "image/png": "[encoded data removed]",
      "text/plain": [
       "<Figure size 720x144 with 1 Axes>"
      ]
     },
     "metadata": {
      "needs_background": "light"
     },
     "output_type": "display_data"
    }
   ],
   "source": [
    "plt.figure(figsize=(10,2))\n",
    "sns.boxplot(prev_ap_df['AMT_DOWN_PAYMENT'])\n",
    "plt.show()"
   ]
  },
  {
   "cell_type": "code",
   "execution_count": 16,
   "id": "543cdfc8",
   "metadata": {},
   "outputs": [],
   "source": [
    "prev_ap_df = remove_outliers(prev_ap_df, 'AMT_ANNUITY')"
   ]
  },
  {
   "cell_type": "code",
   "execution_count": 17,
   "id": "bdb249cf",
   "metadata": {},
   "outputs": [
    {
     "data": {
      "image/png": "[encoded data removed]",
      "text/plain": [
       "<Figure size 720x144 with 1 Axes>"
      ]
     },
     "metadata": {
      "needs_background": "light"
     },
     "output_type": "display_data"
    }
   ],
   "source": [
    "plt.figure(figsize=(10,2))\n",
    "sns.boxplot(prev_ap_df['AMT_ANNUITY'])\n",
    "plt.show()"
   ]
  },
  {
   "cell_type": "markdown",
   "id": "531e0447",
   "metadata": {},
   "source": [
    "# Now, I will try to perform data cleaning on the 'application_df'"
   ]
  },
  {
   "cell_type": "markdown",
   "id": "2758010c",
   "metadata": {},
   "source": [
    "### a) Missing value handling"
   ]
  },
  {
   "cell_type": "markdown",
   "id": "471ee292",
   "metadata": {},
   "source": [
    "i) Identifying Missing Data"
   ]
  },
  {
   "cell_type": "code",
   "execution_count": 18,
   "id": "96c5185e",
   "metadata": {},
   "outputs": [],
   "source": [
    "# We will use missingdata_percentage() function that we created earlier\n",
    "missingdata_application_df = missingdata_percentage(application_df)"
   ]
  },
  {
   "cell_type": "code",
   "execution_count": 19,
   "id": "7a223042",
   "metadata": {
    "scrolled": true
   },
   "outputs": [
    {
     "data": {
      "text/html": [
       "<div>\n",
       "<style scoped>\n",
       "    .dataframe tbody tr th:only-of-type {\n",
       "        vertical-align: middle;\n",
       "    }\n",
       "\n",
       "    .dataframe tbody tr th {\n",
       "        vertical-align: top;\n",
       "    }\n",
       "\n",
       "    .dataframe thead th {\n",
       "        text-align: right;\n",
       "    }\n",
       "</style>\n",
       "<table border=\"1\" class=\"dataframe\">\n",
       "  <thead>\n",
       "    <tr style=\"text-align: right;\">\n",
       "      <th></th>\n",
       "      <th>category</th>\n",
       "      <th>percentage</th>\n",
       "    </tr>\n",
       "  </thead>\n",
       "  <tbody>\n",
       "    <tr>\n",
       "      <th>41</th>\n",
       "      <td>COMMONAREA_MEDI</td>\n",
       "      <td>69.872297</td>\n",
       "    </tr>\n",
       "    <tr>\n",
       "      <th>13</th>\n",
       "      <td>COMMONAREA_AVG</td>\n",
       "      <td>69.872297</td>\n",
       "    </tr>\n",
       "    <tr>\n",
       "      <th>27</th>\n",
       "      <td>COMMONAREA_MODE</td>\n",
       "      <td>69.872297</td>\n",
       "    </tr>\n",
       "    <tr>\n",
       "      <th>49</th>\n",
       "      <td>NONLIVINGAPARTMENTS_MEDI</td>\n",
       "      <td>69.432963</td>\n",
       "    </tr>\n",
       "    <tr>\n",
       "      <th>35</th>\n",
       "      <td>NONLIVINGAPARTMENTS_MODE</td>\n",
       "      <td>69.432963</td>\n",
       "    </tr>\n",
       "    <tr>\n",
       "      <th>...</th>\n",
       "      <td>...</td>\n",
       "      <td>...</td>\n",
       "    </tr>\n",
       "    <tr>\n",
       "      <th>7</th>\n",
       "      <td>EXT_SOURCE_2</td>\n",
       "      <td>0.214626</td>\n",
       "    </tr>\n",
       "    <tr>\n",
       "      <th>1</th>\n",
       "      <td>AMT_GOODS_PRICE</td>\n",
       "      <td>0.090403</td>\n",
       "    </tr>\n",
       "    <tr>\n",
       "      <th>0</th>\n",
       "      <td>AMT_ANNUITY</td>\n",
       "      <td>0.003902</td>\n",
       "    </tr>\n",
       "    <tr>\n",
       "      <th>5</th>\n",
       "      <td>CNT_FAM_MEMBERS</td>\n",
       "      <td>0.000650</td>\n",
       "    </tr>\n",
       "    <tr>\n",
       "      <th>60</th>\n",
       "      <td>DAYS_LAST_PHONE_CHANGE</td>\n",
       "      <td>0.000325</td>\n",
       "    </tr>\n",
       "  </tbody>\n",
       "</table>\n",
       "<p>67 rows × 2 columns</p>\n",
       "</div>"
      ],
      "text/plain": [
       "                    category  percentage\n",
       "41           COMMONAREA_MEDI   69.872297\n",
       "13            COMMONAREA_AVG   69.872297\n",
       "27           COMMONAREA_MODE   69.872297\n",
       "49  NONLIVINGAPARTMENTS_MEDI   69.432963\n",
       "35  NONLIVINGAPARTMENTS_MODE   69.432963\n",
       "..                       ...         ...\n",
       "7               EXT_SOURCE_2    0.214626\n",
       "1            AMT_GOODS_PRICE    0.090403\n",
       "0                AMT_ANNUITY    0.003902\n",
       "5            CNT_FAM_MEMBERS    0.000650\n",
       "60    DAYS_LAST_PHONE_CHANGE    0.000325\n",
       "\n",
       "[67 rows x 2 columns]"
      ]
     },
     "execution_count": 19,
     "metadata": {},
     "output_type": "execute_result"
    }
   ],
   "source": [
    "missingdata_application_df.sort_values('percentage', ascending=False)"
   ]
  },
  {
   "cell_type": "code",
   "execution_count": 20,
   "id": "bfb31bb6",
   "metadata": {},
   "outputs": [
    {
     "data": {
      "text/html": [
       "<div>\n",
       "<style scoped>\n",
       "    .dataframe tbody tr th:only-of-type {\n",
       "        vertical-align: middle;\n",
       "    }\n",
       "\n",
       "    .dataframe tbody tr th {\n",
       "        vertical-align: top;\n",
       "    }\n",
       "\n",
       "    .dataframe thead th {\n",
       "        text-align: right;\n",
       "    }\n",
       "</style>\n",
       "<table border=\"1\" class=\"dataframe\">\n",
       "  <thead>\n",
       "    <tr style=\"text-align: right;\">\n",
       "      <th></th>\n",
       "      <th>category</th>\n",
       "      <th>percentage</th>\n",
       "    </tr>\n",
       "  </thead>\n",
       "  <tbody>\n",
       "    <tr>\n",
       "      <th>0</th>\n",
       "      <td>AMT_ANNUITY</td>\n",
       "      <td>0.003902</td>\n",
       "    </tr>\n",
       "    <tr>\n",
       "      <th>1</th>\n",
       "      <td>AMT_GOODS_PRICE</td>\n",
       "      <td>0.090403</td>\n",
       "    </tr>\n",
       "    <tr>\n",
       "      <th>2</th>\n",
       "      <td>NAME_TYPE_SUITE</td>\n",
       "      <td>0.420148</td>\n",
       "    </tr>\n",
       "    <tr>\n",
       "      <th>5</th>\n",
       "      <td>CNT_FAM_MEMBERS</td>\n",
       "      <td>0.000650</td>\n",
       "    </tr>\n",
       "    <tr>\n",
       "      <th>7</th>\n",
       "      <td>EXT_SOURCE_2</td>\n",
       "      <td>0.214626</td>\n",
       "    </tr>\n",
       "    <tr>\n",
       "      <th>56</th>\n",
       "      <td>OBS_30_CNT_SOCIAL_CIRCLE</td>\n",
       "      <td>0.332021</td>\n",
       "    </tr>\n",
       "    <tr>\n",
       "      <th>57</th>\n",
       "      <td>DEF_30_CNT_SOCIAL_CIRCLE</td>\n",
       "      <td>0.332021</td>\n",
       "    </tr>\n",
       "    <tr>\n",
       "      <th>58</th>\n",
       "      <td>OBS_60_CNT_SOCIAL_CIRCLE</td>\n",
       "      <td>0.332021</td>\n",
       "    </tr>\n",
       "    <tr>\n",
       "      <th>59</th>\n",
       "      <td>DEF_60_CNT_SOCIAL_CIRCLE</td>\n",
       "      <td>0.332021</td>\n",
       "    </tr>\n",
       "    <tr>\n",
       "      <th>60</th>\n",
       "      <td>DAYS_LAST_PHONE_CHANGE</td>\n",
       "      <td>0.000325</td>\n",
       "    </tr>\n",
       "  </tbody>\n",
       "</table>\n",
       "</div>"
      ],
      "text/plain": [
       "                    category  percentage\n",
       "0                AMT_ANNUITY    0.003902\n",
       "1            AMT_GOODS_PRICE    0.090403\n",
       "2            NAME_TYPE_SUITE    0.420148\n",
       "5            CNT_FAM_MEMBERS    0.000650\n",
       "7               EXT_SOURCE_2    0.214626\n",
       "56  OBS_30_CNT_SOCIAL_CIRCLE    0.332021\n",
       "57  DEF_30_CNT_SOCIAL_CIRCLE    0.332021\n",
       "58  OBS_60_CNT_SOCIAL_CIRCLE    0.332021\n",
       "59  DEF_60_CNT_SOCIAL_CIRCLE    0.332021\n",
       "60    DAYS_LAST_PHONE_CHANGE    0.000325"
      ]
     },
     "execution_count": 20,
     "metadata": {},
     "output_type": "execute_result"
    }
   ],
   "source": [
    "missingdata_application_df[missingdata_application_df['percentage']<1]"
   ]
  },
  {
   "cell_type": "markdown",
   "id": "2617430f",
   "metadata": {},
   "source": [
    "### Insights\n",
    "\n",
    "There are 16 features in prev_app_df that have missing values.\n",
    "<ul>\n",
    "\n",
    "<li>Dropping rows containing missing values for the features for <1% of missing data.</li>\n",
    "\n",
    "<li>Dropping entries would not cause impact the analysis as percentage of missing value is very low (~2%).</li>\n",
    "</ul>"
   ]
  },
  {
   "cell_type": "markdown",
   "id": "1c5ed721",
   "metadata": {},
   "source": [
    "ii) Dropping missing data"
   ]
  },
  {
   "cell_type": "code",
   "execution_count": 21,
   "id": "c5cef97f",
   "metadata": {},
   "outputs": [
    {
     "data": {
      "text/html": [
       "<div>\n",
       "<style scoped>\n",
       "    .dataframe tbody tr th:only-of-type {\n",
       "        vertical-align: middle;\n",
       "    }\n",
       "\n",
       "    .dataframe tbody tr th {\n",
       "        vertical-align: top;\n",
       "    }\n",
       "\n",
       "    .dataframe thead th {\n",
       "        text-align: right;\n",
       "    }\n",
       "</style>\n",
       "<table border=\"1\" class=\"dataframe\">\n",
       "  <thead>\n",
       "    <tr style=\"text-align: right;\">\n",
       "      <th></th>\n",
       "      <th>SK_ID_CURR</th>\n",
       "      <th>TARGET</th>\n",
       "      <th>NAME_CONTRACT_TYPE</th>\n",
       "      <th>CODE_GENDER</th>\n",
       "      <th>FLAG_OWN_CAR</th>\n",
       "      <th>FLAG_OWN_REALTY</th>\n",
       "      <th>CNT_CHILDREN</th>\n",
       "      <th>AMT_INCOME_TOTAL</th>\n",
       "      <th>AMT_CREDIT</th>\n",
       "      <th>AMT_ANNUITY</th>\n",
       "      <th>...</th>\n",
       "      <th>FLAG_DOCUMENT_18</th>\n",
       "      <th>FLAG_DOCUMENT_19</th>\n",
       "      <th>FLAG_DOCUMENT_20</th>\n",
       "      <th>FLAG_DOCUMENT_21</th>\n",
       "      <th>AMT_REQ_CREDIT_BUREAU_HOUR</th>\n",
       "      <th>AMT_REQ_CREDIT_BUREAU_DAY</th>\n",
       "      <th>AMT_REQ_CREDIT_BUREAU_WEEK</th>\n",
       "      <th>AMT_REQ_CREDIT_BUREAU_MON</th>\n",
       "      <th>AMT_REQ_CREDIT_BUREAU_QRT</th>\n",
       "      <th>AMT_REQ_CREDIT_BUREAU_YEAR</th>\n",
       "    </tr>\n",
       "  </thead>\n",
       "  <tbody>\n",
       "    <tr>\n",
       "      <th>0</th>\n",
       "      <td>100002</td>\n",
       "      <td>1</td>\n",
       "      <td>Cash loans</td>\n",
       "      <td>M</td>\n",
       "      <td>N</td>\n",
       "      <td>Y</td>\n",
       "      <td>0</td>\n",
       "      <td>202500.0</td>\n",
       "      <td>406597.5</td>\n",
       "      <td>24700.5</td>\n",
       "      <td>...</td>\n",
       "      <td>0</td>\n",
       "      <td>0</td>\n",
       "      <td>0</td>\n",
       "      <td>0</td>\n",
       "      <td>0.0</td>\n",
       "      <td>0.0</td>\n",
       "      <td>0.0</td>\n",
       "      <td>0.0</td>\n",
       "      <td>0.0</td>\n",
       "      <td>1.0</td>\n",
       "    </tr>\n",
       "    <tr>\n",
       "      <th>1</th>\n",
       "      <td>100003</td>\n",
       "      <td>0</td>\n",
       "      <td>Cash loans</td>\n",
       "      <td>F</td>\n",
       "      <td>N</td>\n",
       "      <td>N</td>\n",
       "      <td>0</td>\n",
       "      <td>270000.0</td>\n",
       "      <td>1293502.5</td>\n",
       "      <td>35698.5</td>\n",
       "      <td>...</td>\n",
       "      <td>0</td>\n",
       "      <td>0</td>\n",
       "      <td>0</td>\n",
       "      <td>0</td>\n",
       "      <td>0.0</td>\n",
       "      <td>0.0</td>\n",
       "      <td>0.0</td>\n",
       "      <td>0.0</td>\n",
       "      <td>0.0</td>\n",
       "      <td>0.0</td>\n",
       "    </tr>\n",
       "    <tr>\n",
       "      <th>2</th>\n",
       "      <td>100004</td>\n",
       "      <td>0</td>\n",
       "      <td>Revolving loans</td>\n",
       "      <td>M</td>\n",
       "      <td>Y</td>\n",
       "      <td>Y</td>\n",
       "      <td>0</td>\n",
       "      <td>67500.0</td>\n",
       "      <td>135000.0</td>\n",
       "      <td>6750.0</td>\n",
       "      <td>...</td>\n",
       "      <td>0</td>\n",
       "      <td>0</td>\n",
       "      <td>0</td>\n",
       "      <td>0</td>\n",
       "      <td>0.0</td>\n",
       "      <td>0.0</td>\n",
       "      <td>0.0</td>\n",
       "      <td>0.0</td>\n",
       "      <td>0.0</td>\n",
       "      <td>0.0</td>\n",
       "    </tr>\n",
       "    <tr>\n",
       "      <th>3</th>\n",
       "      <td>100006</td>\n",
       "      <td>0</td>\n",
       "      <td>Cash loans</td>\n",
       "      <td>F</td>\n",
       "      <td>N</td>\n",
       "      <td>Y</td>\n",
       "      <td>0</td>\n",
       "      <td>135000.0</td>\n",
       "      <td>312682.5</td>\n",
       "      <td>29686.5</td>\n",
       "      <td>...</td>\n",
       "      <td>0</td>\n",
       "      <td>0</td>\n",
       "      <td>0</td>\n",
       "      <td>0</td>\n",
       "      <td>NaN</td>\n",
       "      <td>NaN</td>\n",
       "      <td>NaN</td>\n",
       "      <td>NaN</td>\n",
       "      <td>NaN</td>\n",
       "      <td>NaN</td>\n",
       "    </tr>\n",
       "    <tr>\n",
       "      <th>4</th>\n",
       "      <td>100007</td>\n",
       "      <td>0</td>\n",
       "      <td>Cash loans</td>\n",
       "      <td>M</td>\n",
       "      <td>N</td>\n",
       "      <td>Y</td>\n",
       "      <td>0</td>\n",
       "      <td>121500.0</td>\n",
       "      <td>513000.0</td>\n",
       "      <td>21865.5</td>\n",
       "      <td>...</td>\n",
       "      <td>0</td>\n",
       "      <td>0</td>\n",
       "      <td>0</td>\n",
       "      <td>0</td>\n",
       "      <td>0.0</td>\n",
       "      <td>0.0</td>\n",
       "      <td>0.0</td>\n",
       "      <td>0.0</td>\n",
       "      <td>0.0</td>\n",
       "      <td>0.0</td>\n",
       "    </tr>\n",
       "    <tr>\n",
       "      <th>...</th>\n",
       "      <td>...</td>\n",
       "      <td>...</td>\n",
       "      <td>...</td>\n",
       "      <td>...</td>\n",
       "      <td>...</td>\n",
       "      <td>...</td>\n",
       "      <td>...</td>\n",
       "      <td>...</td>\n",
       "      <td>...</td>\n",
       "      <td>...</td>\n",
       "      <td>...</td>\n",
       "      <td>...</td>\n",
       "      <td>...</td>\n",
       "      <td>...</td>\n",
       "      <td>...</td>\n",
       "      <td>...</td>\n",
       "      <td>...</td>\n",
       "      <td>...</td>\n",
       "      <td>...</td>\n",
       "      <td>...</td>\n",
       "      <td>...</td>\n",
       "    </tr>\n",
       "    <tr>\n",
       "      <th>307506</th>\n",
       "      <td>456251</td>\n",
       "      <td>0</td>\n",
       "      <td>Cash loans</td>\n",
       "      <td>M</td>\n",
       "      <td>N</td>\n",
       "      <td>N</td>\n",
       "      <td>0</td>\n",
       "      <td>157500.0</td>\n",
       "      <td>254700.0</td>\n",
       "      <td>27558.0</td>\n",
       "      <td>...</td>\n",
       "      <td>0</td>\n",
       "      <td>0</td>\n",
       "      <td>0</td>\n",
       "      <td>0</td>\n",
       "      <td>NaN</td>\n",
       "      <td>NaN</td>\n",
       "      <td>NaN</td>\n",
       "      <td>NaN</td>\n",
       "      <td>NaN</td>\n",
       "      <td>NaN</td>\n",
       "    </tr>\n",
       "    <tr>\n",
       "      <th>307507</th>\n",
       "      <td>456252</td>\n",
       "      <td>0</td>\n",
       "      <td>Cash loans</td>\n",
       "      <td>F</td>\n",
       "      <td>N</td>\n",
       "      <td>Y</td>\n",
       "      <td>0</td>\n",
       "      <td>72000.0</td>\n",
       "      <td>269550.0</td>\n",
       "      <td>12001.5</td>\n",
       "      <td>...</td>\n",
       "      <td>0</td>\n",
       "      <td>0</td>\n",
       "      <td>0</td>\n",
       "      <td>0</td>\n",
       "      <td>NaN</td>\n",
       "      <td>NaN</td>\n",
       "      <td>NaN</td>\n",
       "      <td>NaN</td>\n",
       "      <td>NaN</td>\n",
       "      <td>NaN</td>\n",
       "    </tr>\n",
       "    <tr>\n",
       "      <th>307508</th>\n",
       "      <td>456253</td>\n",
       "      <td>0</td>\n",
       "      <td>Cash loans</td>\n",
       "      <td>F</td>\n",
       "      <td>N</td>\n",
       "      <td>Y</td>\n",
       "      <td>0</td>\n",
       "      <td>153000.0</td>\n",
       "      <td>677664.0</td>\n",
       "      <td>29979.0</td>\n",
       "      <td>...</td>\n",
       "      <td>0</td>\n",
       "      <td>0</td>\n",
       "      <td>0</td>\n",
       "      <td>0</td>\n",
       "      <td>1.0</td>\n",
       "      <td>0.0</td>\n",
       "      <td>0.0</td>\n",
       "      <td>1.0</td>\n",
       "      <td>0.0</td>\n",
       "      <td>1.0</td>\n",
       "    </tr>\n",
       "    <tr>\n",
       "      <th>307509</th>\n",
       "      <td>456254</td>\n",
       "      <td>1</td>\n",
       "      <td>Cash loans</td>\n",
       "      <td>F</td>\n",
       "      <td>N</td>\n",
       "      <td>Y</td>\n",
       "      <td>0</td>\n",
       "      <td>171000.0</td>\n",
       "      <td>370107.0</td>\n",
       "      <td>20205.0</td>\n",
       "      <td>...</td>\n",
       "      <td>0</td>\n",
       "      <td>0</td>\n",
       "      <td>0</td>\n",
       "      <td>0</td>\n",
       "      <td>0.0</td>\n",
       "      <td>0.0</td>\n",
       "      <td>0.0</td>\n",
       "      <td>0.0</td>\n",
       "      <td>0.0</td>\n",
       "      <td>0.0</td>\n",
       "    </tr>\n",
       "    <tr>\n",
       "      <th>307510</th>\n",
       "      <td>456255</td>\n",
       "      <td>0</td>\n",
       "      <td>Cash loans</td>\n",
       "      <td>F</td>\n",
       "      <td>N</td>\n",
       "      <td>N</td>\n",
       "      <td>0</td>\n",
       "      <td>157500.0</td>\n",
       "      <td>675000.0</td>\n",
       "      <td>49117.5</td>\n",
       "      <td>...</td>\n",
       "      <td>0</td>\n",
       "      <td>0</td>\n",
       "      <td>0</td>\n",
       "      <td>0</td>\n",
       "      <td>0.0</td>\n",
       "      <td>0.0</td>\n",
       "      <td>0.0</td>\n",
       "      <td>2.0</td>\n",
       "      <td>0.0</td>\n",
       "      <td>1.0</td>\n",
       "    </tr>\n",
       "  </tbody>\n",
       "</table>\n",
       "<p>304531 rows × 122 columns</p>\n",
       "</div>"
      ],
      "text/plain": [
       "        SK_ID_CURR  TARGET NAME_CONTRACT_TYPE CODE_GENDER FLAG_OWN_CAR  \\\n",
       "0           100002       1         Cash loans           M            N   \n",
       "1           100003       0         Cash loans           F            N   \n",
       "2           100004       0    Revolving loans           M            Y   \n",
       "3           100006       0         Cash loans           F            N   \n",
       "4           100007       0         Cash loans           M            N   \n",
       "...            ...     ...                ...         ...          ...   \n",
       "307506      456251       0         Cash loans           M            N   \n",
       "307507      456252       0         Cash loans           F            N   \n",
       "307508      456253       0         Cash loans           F            N   \n",
       "307509      456254       1         Cash loans           F            N   \n",
       "307510      456255       0         Cash loans           F            N   \n",
       "\n",
       "       FLAG_OWN_REALTY  CNT_CHILDREN  AMT_INCOME_TOTAL  AMT_CREDIT  \\\n",
       "0                    Y             0          202500.0    406597.5   \n",
       "1                    N             0          270000.0   1293502.5   \n",
       "2                    Y             0           67500.0    135000.0   \n",
       "3                    Y             0          135000.0    312682.5   \n",
       "4                    Y             0          121500.0    513000.0   \n",
       "...                ...           ...               ...         ...   \n",
       "307506               N             0          157500.0    254700.0   \n",
       "307507               Y             0           72000.0    269550.0   \n",
       "307508               Y             0          153000.0    677664.0   \n",
       "307509               Y             0          171000.0    370107.0   \n",
       "307510               N             0          157500.0    675000.0   \n",
       "\n",
       "        AMT_ANNUITY  ...  FLAG_DOCUMENT_18 FLAG_DOCUMENT_19 FLAG_DOCUMENT_20  \\\n",
       "0           24700.5  ...                 0                0                0   \n",
       "1           35698.5  ...                 0                0                0   \n",
       "2            6750.0  ...                 0                0                0   \n",
       "3           29686.5  ...                 0                0                0   \n",
       "4           21865.5  ...                 0                0                0   \n",
       "...             ...  ...               ...              ...              ...   \n",
       "307506      27558.0  ...                 0                0                0   \n",
       "307507      12001.5  ...                 0                0                0   \n",
       "307508      29979.0  ...                 0                0                0   \n",
       "307509      20205.0  ...                 0                0                0   \n",
       "307510      49117.5  ...                 0                0                0   \n",
       "\n",
       "       FLAG_DOCUMENT_21 AMT_REQ_CREDIT_BUREAU_HOUR AMT_REQ_CREDIT_BUREAU_DAY  \\\n",
       "0                     0                        0.0                       0.0   \n",
       "1                     0                        0.0                       0.0   \n",
       "2                     0                        0.0                       0.0   \n",
       "3                     0                        NaN                       NaN   \n",
       "4                     0                        0.0                       0.0   \n",
       "...                 ...                        ...                       ...   \n",
       "307506                0                        NaN                       NaN   \n",
       "307507                0                        NaN                       NaN   \n",
       "307508                0                        1.0                       0.0   \n",
       "307509                0                        0.0                       0.0   \n",
       "307510                0                        0.0                       0.0   \n",
       "\n",
       "        AMT_REQ_CREDIT_BUREAU_WEEK  AMT_REQ_CREDIT_BUREAU_MON  \\\n",
       "0                              0.0                        0.0   \n",
       "1                              0.0                        0.0   \n",
       "2                              0.0                        0.0   \n",
       "3                              NaN                        NaN   \n",
       "4                              0.0                        0.0   \n",
       "...                            ...                        ...   \n",
       "307506                         NaN                        NaN   \n",
       "307507                         NaN                        NaN   \n",
       "307508                         0.0                        1.0   \n",
       "307509                         0.0                        0.0   \n",
       "307510                         0.0                        2.0   \n",
       "\n",
       "        AMT_REQ_CREDIT_BUREAU_QRT  AMT_REQ_CREDIT_BUREAU_YEAR  \n",
       "0                             0.0                         1.0  \n",
       "1                             0.0                         0.0  \n",
       "2                             0.0                         0.0  \n",
       "3                             NaN                         NaN  \n",
       "4                             0.0                         0.0  \n",
       "...                           ...                         ...  \n",
       "307506                        NaN                         NaN  \n",
       "307507                        NaN                         NaN  \n",
       "307508                        0.0                         1.0  \n",
       "307509                        0.0                         0.0  \n",
       "307510                        0.0                         1.0  \n",
       "\n",
       "[304531 rows x 122 columns]"
      ]
     },
     "execution_count": 21,
     "metadata": {},
     "output_type": "execute_result"
    }
   ],
   "source": [
    "application_df.dropna(subset=['AMT_ANNUITY', 'AMT_GOODS_PRICE', 'NAME_TYPE_SUITE', 'CNT_FAM_MEMBERS', 'EXT_SOURCE_2', 'OBS_30_CNT_SOCIAL_CIRCLE','DEF_30_CNT_SOCIAL_CIRCLE', 'OBS_60_CNT_SOCIAL_CIRCLE', 'DEF_60_CNT_SOCIAL_CIRCLE', 'DAYS_LAST_PHONE_CHANGE'], inplace=True)\n",
    "\n",
    "#Checking the remaining columns\n",
    "application_df"
   ]
  },
  {
   "cell_type": "markdown",
   "id": "53369234",
   "metadata": {},
   "source": [
    "## c) Checking Data Imbalance"
   ]
  },
  {
   "cell_type": "markdown",
   "id": "f856eb32",
   "metadata": {},
   "source": [
    "for checking imbalance in data we need to merge both dataframes and clean it jut as we have cleaned both the datasets separately"
   ]
  },
  {
   "cell_type": "code",
   "execution_count": 22,
   "id": "836e3885",
   "metadata": {},
   "outputs": [
    {
     "name": "stdout",
     "output_type": "stream",
     "text": [
      "(1404179, 36)\n"
     ]
    }
   ],
   "source": [
    "# Merging only required columns of application_data with previous_application_data\n",
    "\n",
    "prev_ap_merged = pd.merge(application_df[['SK_ID_CURR', 'TARGET']], prev_ap_df, how='left', on=['SK_ID_CURR'])\n",
    "print(prev_ap_merged.shape)"
   ]
  },
  {
   "cell_type": "code",
   "execution_count": 23,
   "id": "45a7a907",
   "metadata": {},
   "outputs": [
    {
     "name": "stdout",
     "output_type": "stream",
     "text": [
      "(1388267, 36)\n"
     ]
    }
   ],
   "source": [
    "prev_ap_merged = remove_outliers(prev_ap_merged, 'AMT_DOWN_PAYMENT')\n",
    "prev_ap_merged = remove_outliers(prev_ap_merged, 'AMT_ANNUITY')\n",
    "print(prev_ap_merged.shape)"
   ]
  },
  {
   "cell_type": "code",
   "execution_count": 24,
   "id": "b1f1c8c3",
   "metadata": {},
   "outputs": [
    {
     "data": {
      "text/html": [
       "<div>\n",
       "<style scoped>\n",
       "    .dataframe tbody tr th:only-of-type {\n",
       "        vertical-align: middle;\n",
       "    }\n",
       "\n",
       "    .dataframe tbody tr th {\n",
       "        vertical-align: top;\n",
       "    }\n",
       "\n",
       "    .dataframe thead th {\n",
       "        text-align: right;\n",
       "    }\n",
       "</style>\n",
       "<table border=\"1\" class=\"dataframe\">\n",
       "  <thead>\n",
       "    <tr style=\"text-align: right;\">\n",
       "      <th></th>\n",
       "      <th>SK_ID_CURR</th>\n",
       "      <th>TARGET</th>\n",
       "      <th>SK_ID_PREV</th>\n",
       "      <th>AMT_ANNUITY</th>\n",
       "      <th>AMT_APPLICATION</th>\n",
       "      <th>AMT_CREDIT</th>\n",
       "      <th>AMT_DOWN_PAYMENT</th>\n",
       "      <th>AMT_GOODS_PRICE</th>\n",
       "      <th>HOUR_APPR_PROCESS_START</th>\n",
       "      <th>NFLAG_LAST_APPL_IN_DAY</th>\n",
       "      <th>RATE_DOWN_PAYMENT</th>\n",
       "      <th>DAYS_DECISION</th>\n",
       "      <th>SELLERPLACE_AREA</th>\n",
       "      <th>CNT_PAYMENT</th>\n",
       "      <th>DAYS_FIRST_DRAWING</th>\n",
       "      <th>DAYS_FIRST_DUE</th>\n",
       "      <th>DAYS_LAST_DUE_1ST_VERSION</th>\n",
       "      <th>DAYS_LAST_DUE</th>\n",
       "      <th>DAYS_TERMINATION</th>\n",
       "      <th>NFLAG_INSURED_ON_APPROVAL</th>\n",
       "    </tr>\n",
       "  </thead>\n",
       "  <tbody>\n",
       "    <tr>\n",
       "      <th>count</th>\n",
       "      <td>1.388267e+06</td>\n",
       "      <td>1.388267e+06</td>\n",
       "      <td>1.371700e+06</td>\n",
       "      <td>1.066537e+06</td>\n",
       "      <td>1.371700e+06</td>\n",
       "      <td>1.371700e+06</td>\n",
       "      <td>646928.000000</td>\n",
       "      <td>1.054234e+06</td>\n",
       "      <td>1.371700e+06</td>\n",
       "      <td>1.371700e+06</td>\n",
       "      <td>646928.000000</td>\n",
       "      <td>1.371700e+06</td>\n",
       "      <td>1.371700e+06</td>\n",
       "      <td>1.066542e+06</td>\n",
       "      <td>825220.000000</td>\n",
       "      <td>825220.000000</td>\n",
       "      <td>825220.000000</td>\n",
       "      <td>825220.000000</td>\n",
       "      <td>825220.000000</td>\n",
       "      <td>825220.000000</td>\n",
       "    </tr>\n",
       "    <tr>\n",
       "      <th>mean</th>\n",
       "      <td>2.784320e+05</td>\n",
       "      <td>8.702505e-02</td>\n",
       "      <td>1.922904e+06</td>\n",
       "      <td>1.452031e+04</td>\n",
       "      <td>1.564674e+05</td>\n",
       "      <td>1.775130e+05</td>\n",
       "      <td>5071.408513</td>\n",
       "      <td>2.036190e+05</td>\n",
       "      <td>1.246973e+01</td>\n",
       "      <td>9.963768e-01</td>\n",
       "      <td>0.075369</td>\n",
       "      <td>-8.835551e+02</td>\n",
       "      <td>3.130396e+02</td>\n",
       "      <td>1.585517e+01</td>\n",
       "      <td>341569.289099</td>\n",
       "      <td>13859.406067</td>\n",
       "      <td>34283.481966</td>\n",
       "      <td>76815.867727</td>\n",
       "      <td>82618.287087</td>\n",
       "      <td>0.327315</td>\n",
       "    </tr>\n",
       "    <tr>\n",
       "      <th>std</th>\n",
       "      <td>1.027883e+05</td>\n",
       "      <td>2.818719e-01</td>\n",
       "      <td>5.326533e+05</td>\n",
       "      <td>1.156755e+04</td>\n",
       "      <td>2.481789e+05</td>\n",
       "      <td>2.741488e+05</td>\n",
       "      <td>7987.331198</td>\n",
       "      <td>2.656373e+05</td>\n",
       "      <td>3.329384e+00</td>\n",
       "      <td>6.008424e-02</td>\n",
       "      <td>0.099251</td>\n",
       "      <td>7.877036e+02</td>\n",
       "      <td>7.797789e+03</td>\n",
       "      <td>1.446115e+01</td>\n",
       "      <td>90062.213881</td>\n",
       "      <td>72536.846349</td>\n",
       "      <td>107580.829373</td>\n",
       "      <td>149819.845989</td>\n",
       "      <td>153717.777294</td>\n",
       "      <td>0.469234</td>\n",
       "    </tr>\n",
       "    <tr>\n",
       "      <th>min</th>\n",
       "      <td>1.000020e+05</td>\n",
       "      <td>0.000000e+00</td>\n",
       "      <td>1.000001e+06</td>\n",
       "      <td>0.000000e+00</td>\n",
       "      <td>0.000000e+00</td>\n",
       "      <td>0.000000e+00</td>\n",
       "      <td>-0.900000</td>\n",
       "      <td>0.000000e+00</td>\n",
       "      <td>0.000000e+00</td>\n",
       "      <td>0.000000e+00</td>\n",
       "      <td>-0.000015</td>\n",
       "      <td>-2.922000e+03</td>\n",
       "      <td>-1.000000e+00</td>\n",
       "      <td>0.000000e+00</td>\n",
       "      <td>-2922.000000</td>\n",
       "      <td>-2892.000000</td>\n",
       "      <td>-2801.000000</td>\n",
       "      <td>-2889.000000</td>\n",
       "      <td>-2874.000000</td>\n",
       "      <td>0.000000</td>\n",
       "    </tr>\n",
       "    <tr>\n",
       "      <th>25%</th>\n",
       "      <td>1.893400e+05</td>\n",
       "      <td>0.000000e+00</td>\n",
       "      <td>1.461701e+06</td>\n",
       "      <td>6.126255e+03</td>\n",
       "      <td>1.818000e+04</td>\n",
       "      <td>2.384100e+04</td>\n",
       "      <td>0.000000</td>\n",
       "      <td>4.855590e+04</td>\n",
       "      <td>1.000000e+01</td>\n",
       "      <td>1.000000e+00</td>\n",
       "      <td>0.000000</td>\n",
       "      <td>-1.327000e+03</td>\n",
       "      <td>-1.000000e+00</td>\n",
       "      <td>6.000000e+00</td>\n",
       "      <td>365243.000000</td>\n",
       "      <td>-1648.000000</td>\n",
       "      <td>-1261.000000</td>\n",
       "      <td>-1331.000000</td>\n",
       "      <td>-1284.000000</td>\n",
       "      <td>0.000000</td>\n",
       "    </tr>\n",
       "    <tr>\n",
       "      <th>50%</th>\n",
       "      <td>2.789110e+05</td>\n",
       "      <td>0.000000e+00</td>\n",
       "      <td>1.922842e+06</td>\n",
       "      <td>1.087384e+04</td>\n",
       "      <td>6.750000e+04</td>\n",
       "      <td>7.695000e+04</td>\n",
       "      <td>1539.000000</td>\n",
       "      <td>1.043100e+05</td>\n",
       "      <td>1.200000e+01</td>\n",
       "      <td>1.000000e+00</td>\n",
       "      <td>0.049659</td>\n",
       "      <td>-5.810000e+02</td>\n",
       "      <td>4.000000e+00</td>\n",
       "      <td>1.200000e+01</td>\n",
       "      <td>365243.000000</td>\n",
       "      <td>-835.000000</td>\n",
       "      <td>-366.000000</td>\n",
       "      <td>-544.000000</td>\n",
       "      <td>-503.000000</td>\n",
       "      <td>0.000000</td>\n",
       "    </tr>\n",
       "    <tr>\n",
       "      <th>75%</th>\n",
       "      <td>3.674500e+05</td>\n",
       "      <td>0.000000e+00</td>\n",
       "      <td>2.384084e+06</td>\n",
       "      <td>1.939279e+04</td>\n",
       "      <td>1.777500e+05</td>\n",
       "      <td>1.978200e+05</td>\n",
       "      <td>7164.000000</td>\n",
       "      <td>2.250000e+05</td>\n",
       "      <td>1.500000e+01</td>\n",
       "      <td>1.000000e+00</td>\n",
       "      <td>0.108909</td>\n",
       "      <td>-2.690000e+02</td>\n",
       "      <td>8.500000e+01</td>\n",
       "      <td>2.400000e+01</td>\n",
       "      <td>365243.000000</td>\n",
       "      <td>-408.000000</td>\n",
       "      <td>136.000000</td>\n",
       "      <td>-74.000000</td>\n",
       "      <td>-41.000000</td>\n",
       "      <td>1.000000</td>\n",
       "    </tr>\n",
       "    <tr>\n",
       "      <th>max</th>\n",
       "      <td>4.562550e+05</td>\n",
       "      <td>1.000000e+00</td>\n",
       "      <td>2.845381e+06</td>\n",
       "      <td>5.805932e+04</td>\n",
       "      <td>3.511305e+06</td>\n",
       "      <td>3.511305e+06</td>\n",
       "      <td>45000.000000</td>\n",
       "      <td>3.511305e+06</td>\n",
       "      <td>2.300000e+01</td>\n",
       "      <td>1.000000e+00</td>\n",
       "      <td>0.831411</td>\n",
       "      <td>-1.000000e+00</td>\n",
       "      <td>4.000000e+06</td>\n",
       "      <td>8.400000e+01</td>\n",
       "      <td>365243.000000</td>\n",
       "      <td>365243.000000</td>\n",
       "      <td>365243.000000</td>\n",
       "      <td>365243.000000</td>\n",
       "      <td>365243.000000</td>\n",
       "      <td>1.000000</td>\n",
       "    </tr>\n",
       "  </tbody>\n",
       "</table>\n",
       "</div>"
      ],
      "text/plain": [
       "         SK_ID_CURR        TARGET    SK_ID_PREV   AMT_ANNUITY  \\\n",
       "count  1.388267e+06  1.388267e+06  1.371700e+06  1.066537e+06   \n",
       "mean   2.784320e+05  8.702505e-02  1.922904e+06  1.452031e+04   \n",
       "std    1.027883e+05  2.818719e-01  5.326533e+05  1.156755e+04   \n",
       "min    1.000020e+05  0.000000e+00  1.000001e+06  0.000000e+00   \n",
       "25%    1.893400e+05  0.000000e+00  1.461701e+06  6.126255e+03   \n",
       "50%    2.789110e+05  0.000000e+00  1.922842e+06  1.087384e+04   \n",
       "75%    3.674500e+05  0.000000e+00  2.384084e+06  1.939279e+04   \n",
       "max    4.562550e+05  1.000000e+00  2.845381e+06  5.805932e+04   \n",
       "\n",
       "       AMT_APPLICATION    AMT_CREDIT  AMT_DOWN_PAYMENT  AMT_GOODS_PRICE  \\\n",
       "count     1.371700e+06  1.371700e+06     646928.000000     1.054234e+06   \n",
       "mean      1.564674e+05  1.775130e+05       5071.408513     2.036190e+05   \n",
       "std       2.481789e+05  2.741488e+05       7987.331198     2.656373e+05   \n",
       "min       0.000000e+00  0.000000e+00         -0.900000     0.000000e+00   \n",
       "25%       1.818000e+04  2.384100e+04          0.000000     4.855590e+04   \n",
       "50%       6.750000e+04  7.695000e+04       1539.000000     1.043100e+05   \n",
       "75%       1.777500e+05  1.978200e+05       7164.000000     2.250000e+05   \n",
       "max       3.511305e+06  3.511305e+06      45000.000000     3.511305e+06   \n",
       "\n",
       "       HOUR_APPR_PROCESS_START  NFLAG_LAST_APPL_IN_DAY  RATE_DOWN_PAYMENT  \\\n",
       "count             1.371700e+06            1.371700e+06      646928.000000   \n",
       "mean              1.246973e+01            9.963768e-01           0.075369   \n",
       "std               3.329384e+00            6.008424e-02           0.099251   \n",
       "min               0.000000e+00            0.000000e+00          -0.000015   \n",
       "25%               1.000000e+01            1.000000e+00           0.000000   \n",
       "50%               1.200000e+01            1.000000e+00           0.049659   \n",
       "75%               1.500000e+01            1.000000e+00           0.108909   \n",
       "max               2.300000e+01            1.000000e+00           0.831411   \n",
       "\n",
       "       DAYS_DECISION  SELLERPLACE_AREA   CNT_PAYMENT  DAYS_FIRST_DRAWING  \\\n",
       "count   1.371700e+06      1.371700e+06  1.066542e+06       825220.000000   \n",
       "mean   -8.835551e+02      3.130396e+02  1.585517e+01       341569.289099   \n",
       "std     7.877036e+02      7.797789e+03  1.446115e+01        90062.213881   \n",
       "min    -2.922000e+03     -1.000000e+00  0.000000e+00        -2922.000000   \n",
       "25%    -1.327000e+03     -1.000000e+00  6.000000e+00       365243.000000   \n",
       "50%    -5.810000e+02      4.000000e+00  1.200000e+01       365243.000000   \n",
       "75%    -2.690000e+02      8.500000e+01  2.400000e+01       365243.000000   \n",
       "max    -1.000000e+00      4.000000e+06  8.400000e+01       365243.000000   \n",
       "\n",
       "       DAYS_FIRST_DUE  DAYS_LAST_DUE_1ST_VERSION  DAYS_LAST_DUE  \\\n",
       "count   825220.000000              825220.000000  825220.000000   \n",
       "mean     13859.406067               34283.481966   76815.867727   \n",
       "std      72536.846349              107580.829373  149819.845989   \n",
       "min      -2892.000000               -2801.000000   -2889.000000   \n",
       "25%      -1648.000000               -1261.000000   -1331.000000   \n",
       "50%       -835.000000                -366.000000    -544.000000   \n",
       "75%       -408.000000                 136.000000     -74.000000   \n",
       "max     365243.000000              365243.000000  365243.000000   \n",
       "\n",
       "       DAYS_TERMINATION  NFLAG_INSURED_ON_APPROVAL  \n",
       "count     825220.000000              825220.000000  \n",
       "mean       82618.287087                   0.327315  \n",
       "std       153717.777294                   0.469234  \n",
       "min        -2874.000000                   0.000000  \n",
       "25%        -1284.000000                   0.000000  \n",
       "50%         -503.000000                   0.000000  \n",
       "75%          -41.000000                   1.000000  \n",
       "max       365243.000000                   1.000000  "
      ]
     },
     "execution_count": 24,
     "metadata": {},
     "output_type": "execute_result"
    }
   ],
   "source": [
    "prev_ap_merged.describe()"
   ]
  },
  {
   "cell_type": "code",
   "execution_count": 25,
   "id": "4b93334a",
   "metadata": {},
   "outputs": [
    {
     "data": {
      "image/png": "[encoded data removed]",
      "text/plain": [
       "<Figure size 432x288 with 1 Axes>"
      ]
     },
     "metadata": {},
     "output_type": "display_data"
    }
   ],
   "source": [
    "plt.style.use(\"ggplot\")\n",
    "plt.title(\"Status of Previous Loan Application and Payment\")\n",
    "sns.countplot(prev_ap_merged['NAME_CONTRACT_STATUS'], hue=prev_ap_merged['TARGET'])\n",
    "plt.show()"
   ]
  },
  {
   "cell_type": "code",
   "execution_count": 26,
   "id": "ca0bff0d",
   "metadata": {},
   "outputs": [
    {
     "name": "stdout",
     "output_type": "stream",
     "text": [
      "Percentage of previously approved loan applicants that defaulted in current loan : 7.678348657899435\n"
     ]
    }
   ],
   "source": [
    "# Percentage of previously approved loan applicants that defaulted in current loan\n",
    "\n",
    "total_approved = prev_ap_merged[prev_ap_merged['NAME_CONTRACT_STATUS'] == \"Approved\"].shape[0]\n",
    "default_approved = prev_ap_merged[(prev_ap_merged['TARGET'] == 1) & (prev_ap_merged['NAME_CONTRACT_STATUS'] == \"Approved\")].shape[0]\n",
    "\n",
    "print(\"Percentage of previously approved loan applicants that defaulted in current loan : {}\".format(default_approved/total_approved*100))"
   ]
  },
  {
   "cell_type": "code",
   "execution_count": 27,
   "id": "3d09e967",
   "metadata": {},
   "outputs": [
    {
     "name": "stdout",
     "output_type": "stream",
     "text": [
      "Percentage of previously refused loan applicants that were able to pay current loan : 87.86236584753729\n"
     ]
    }
   ],
   "source": [
    "total_refused = prev_ap_merged[prev_ap_merged['NAME_CONTRACT_STATUS'] == \"Refused\"].shape[0]\n",
    "nondefault_refused = prev_ap_merged[(prev_ap_merged['TARGET'] == 0) & (prev_ap_merged['NAME_CONTRACT_STATUS'] == \"Refused\")].shape[0]\n",
    "\n",
    "print(\"Percentage of previously refused loan applicants that were able to pay current loan : {}\".format(nondefault_refused/total_refused*100))"
   ]
  },
  {
   "cell_type": "markdown",
   "id": "3c29da49",
   "metadata": {},
   "source": [
    "#### Insights :\n",
    "\n",
    "The applicants whose previous loans were approved are more likely to pay current loan in time, than the applicants whose previous loans were rejected.\n",
    "\n",
    "7.6% of the previously approved loan applicants that defaulted in current loan\n",
    "\n",
    "87.8 % of the previously refused loan applicants that were able to pay current loan"
   ]
  },
  {
   "cell_type": "code",
   "execution_count": 28,
   "id": "eb4d31a0",
   "metadata": {},
   "outputs": [
    {
     "data": {
      "image/png": "[encoded data removed]",
      "text/plain": [
       "<Figure size 432x288 with 1 Axes>"
      ]
     },
     "metadata": {},
     "output_type": "display_data"
    }
   ],
   "source": [
    "plt.title(\"Payment Status\")\n",
    "sns.countplot(application_df['TARGET'])\n",
    "plt.show()"
   ]
  },
  {
   "cell_type": "markdown",
   "id": "2f4e545f",
   "metadata": {},
   "source": [
    "This data is highly imbalanced as number of defaulter is very less in total population."
   ]
  },
  {
   "cell_type": "code",
   "execution_count": 29,
   "id": "174e775f",
   "metadata": {},
   "outputs": [
    {
     "name": "stdout",
     "output_type": "stream",
     "text": [
      "No. of defaulters:  24667\n",
      "No. of non-defaulters:  279864\n"
     ]
    }
   ],
   "source": [
    "non_default  = application_df[application_df[\"TARGET\"] == 0]\n",
    "default  = application_df[application_df[\"TARGET\"] == 1]\n",
    "\n",
    "print(\"No. of defaulters: \", default.shape[0])\n",
    "print(\"No. of non-defaulters: \", non_default.shape[0])"
   ]
  },
  {
   "cell_type": "code",
   "execution_count": 30,
   "id": "bddcf424",
   "metadata": {},
   "outputs": [
    {
     "name": "stdout",
     "output_type": "stream",
     "text": [
      "Percentage of defaulters:  8.099996387888261\n"
     ]
    }
   ],
   "source": [
    "print(\"Percentage of defaulters: \", default.shape[0]*100/(default.shape[0]+non_default.shape[0]))"
   ]
  },
  {
   "cell_type": "markdown",
   "id": "40aa2577",
   "metadata": {},
   "source": [
    "#### Insights :\n",
    "This data is highly imbalanced as number of defaulter is very less in total population. \n",
    "Data Imbalance Ratio\n",
    "\n",
    "Defaulter : Non-Defaulter = 8 : 92 = 2 : 23"
   ]
  },
  {
   "cell_type": "markdown",
   "id": "d7d9e5b7",
   "metadata": {},
   "source": [
    "# 4) Analysis of diffrent variables in segments"
   ]
  },
  {
   "cell_type": "markdown",
   "id": "3e242eca",
   "metadata": {},
   "source": [
    "### Segment 1 :- Region based analysis"
   ]
  },
  {
   "cell_type": "code",
   "execution_count": 31,
   "id": "6d74ad9f",
   "metadata": {},
   "outputs": [],
   "source": [
    "start_idx = application_df.columns.get_loc('REG_REGION_NOT_LIVE_REGION')\n",
    "end_idx = application_df.columns.get_loc('LIVE_CITY_NOT_WORK_CITY')\n",
    "\n",
    "region_df = application_df.iloc[:, start_idx:end_idx+1]"
   ]
  },
  {
   "cell_type": "code",
   "execution_count": 32,
   "id": "500756e0",
   "metadata": {},
   "outputs": [],
   "source": [
    "region_df['REGION_RATING_CLIENT'] = application_df['REGION_RATING_CLIENT']\n",
    "region_df['REGION_RATING_CLIENT_W_CITY'] = application_df['REGION_RATING_CLIENT_W_CITY']\n",
    "region_df[\"TARGET\"] = application_df[\"TARGET\"]"
   ]
  },
  {
   "cell_type": "code",
   "execution_count": 33,
   "id": "cc54b3da",
   "metadata": {},
   "outputs": [
    {
     "data": {
      "image/png": "[encoded data removed]",
      "text/plain": [
       "<Figure size 432x288 with 2 Axes>"
      ]
     },
     "metadata": {},
     "output_type": "display_data"
    }
   ],
   "source": [
    "sns.heatmap(region_df)\n",
    "plt.show()"
   ]
  },
  {
   "cell_type": "markdown",
   "id": "d344d755",
   "metadata": {},
   "source": [
    "#### Insights:\n",
    "<ul>\n",
    "<li>All the features are labeled as 0 and 1.</li>\n",
    "<li>REG_REGION_NOT_LIVE_REGION mostly contains 0, hence it can be removed</li>\n",
    "<li>REG_REGION_NOT_WORK_REGION, LIVE_REGION_NOT_WORK_REGION columns are identical, hence one of them can be removed</li>\n",
    "<li>REG_CITY_NOT_WORK_CITY, LIVE_CITY_NOT_WORK_CITY columns are identical, hence one of them can be removed.</li>\n",
    "</ul>"
   ]
  },
  {
   "cell_type": "code",
   "execution_count": 34,
   "id": "e7d6da3a",
   "metadata": {},
   "outputs": [
    {
     "data": {
      "image/png": "[encoded data removed]",
      "text/plain": [
       "<Figure size 720x720 with 5 Axes>"
      ]
     },
     "metadata": {},
     "output_type": "display_data"
    }
   ],
   "source": [
    "fig=plt.subplots(figsize=(10, 10))\n",
    "\n",
    "for i, j in enumerate(['REG_REGION_NOT_WORK_REGION','REG_CITY_NOT_LIVE_CITY', 'REG_CITY_NOT_WORK_CITY','REGION_RATING_CLIENT', 'REGION_RATING_CLIENT_W_CITY']):\n",
    "    plt.subplot(5, 3, i+1, ylim=(0, 250000))\n",
    "    plt.subplots_adjust(hspace = 1.0)\n",
    "    sns.countplot(application_df[j], hue=application_df[\"TARGET\"])\n",
    "    plt.xticks(rotation=90)\n",
    "    plt.tight_layout()"
   ]
  },
  {
   "cell_type": "markdown",
   "id": "bbe74093",
   "metadata": {},
   "source": [
    "#### Insights:\n",
    "</ul>\n",
    "<li>Defaulter rate is highest when REG_REGION_NOT_WORK_REGION=0 i.e. permanent address and working address is same</li>\n",
    "\n",
    "</ul>"
   ]
  },
  {
   "cell_type": "markdown",
   "id": "93ab3917",
   "metadata": {},
   "source": [
    "### Segment 2 :- Based on contact"
   ]
  },
  {
   "cell_type": "code",
   "execution_count": 35,
   "id": "65f67ef3",
   "metadata": {},
   "outputs": [
    {
     "name": "stdout",
     "output_type": "stream",
     "text": [
      "<class 'pandas.core.frame.DataFrame'>\n",
      "Int64Index: 304531 entries, 0 to 307510\n",
      "Data columns (total 8 columns):\n",
      " #   Column                  Non-Null Count   Dtype  \n",
      "---  ------                  --------------   -----  \n",
      " 0   FLAG_MOBIL              304531 non-null  int64  \n",
      " 1   FLAG_EMP_PHONE          304531 non-null  int64  \n",
      " 2   FLAG_WORK_PHONE         304531 non-null  int64  \n",
      " 3   FLAG_CONT_MOBILE        304531 non-null  int64  \n",
      " 4   FLAG_PHONE              304531 non-null  int64  \n",
      " 5   FLAG_EMAIL              304531 non-null  int64  \n",
      " 6   DAYS_LAST_PHONE_CHANGE  304531 non-null  float64\n",
      " 7   TARGET                  304531 non-null  int64  \n",
      "dtypes: float64(1), int64(7)\n",
      "memory usage: 29.0 MB\n"
     ]
    }
   ],
   "source": [
    "contact_df = application_df[['FLAG_MOBIL','FLAG_EMP_PHONE','FLAG_WORK_PHONE','FLAG_CONT_MOBILE','FLAG_PHONE','FLAG_EMAIL','DAYS_LAST_PHONE_CHANGE', 'TARGET']]\n",
    "contact_df.info()\n"
   ]
  },
  {
   "cell_type": "code",
   "execution_count": 36,
   "id": "cebcfb04",
   "metadata": {},
   "outputs": [
    {
     "data": {
      "image/png": "[encoded data removed]",
      "text/plain": [
       "<Figure size 432x288 with 2 Axes>"
      ]
     },
     "metadata": {},
     "output_type": "display_data"
    }
   ],
   "source": [
    "plt.figure()\n",
    "sns.heatmap(contact_df.drop('DAYS_LAST_PHONE_CHANGE', axis=1))\n",
    "plt.show()"
   ]
  },
  {
   "cell_type": "markdown",
   "id": "6c7592b5",
   "metadata": {},
   "source": [
    "#### Insights:\n",
    "\n",
    "<li>All the features in contact_df are categorical (0 and 1)</li>\n",
    "\n",
    "<li>As there is no similarity of patterns of TARGET value with the features,\n",
    "\n",
    "<li>we are assuming the feature are not useful for analysis.</li>\n",
    "\n",
    "<li>Hence all of these features can be removed.\n",
    "</ul>"
   ]
  },
  {
   "cell_type": "markdown",
   "id": "dfbed9c7",
   "metadata": {},
   "source": [
    "### Segment 3 :- Based on assets owned"
   ]
  },
  {
   "cell_type": "code",
   "execution_count": 39,
   "id": "8a85fb46",
   "metadata": {},
   "outputs": [
    {
     "name": "stdout",
     "output_type": "stream",
     "text": [
      "<class 'pandas.core.frame.DataFrame'>\n",
      "Int64Index: 304531 entries, 0 to 307510\n",
      "Data columns (total 4 columns):\n",
      " #   Column           Non-Null Count   Dtype  \n",
      "---  ------           --------------   -----  \n",
      " 0   FLAG_OWN_CAR     304531 non-null  object \n",
      " 1   FLAG_OWN_REALTY  304531 non-null  object \n",
      " 2   OWN_CAR_AGE      103619 non-null  float64\n",
      " 3   TARGET           304531 non-null  int64  \n",
      "dtypes: float64(1), int64(1), object(2)\n",
      "memory usage: 19.7+ MB\n"
     ]
    }
   ],
   "source": [
    "application_df[['FLAG_OWN_CAR', 'FLAG_OWN_REALTY', 'OWN_CAR_AGE', 'TARGET']].info()"
   ]
  },
  {
   "cell_type": "code",
   "execution_count": 40,
   "id": "d2e6b165",
   "metadata": {},
   "outputs": [
    {
     "data": {
      "image/png": "[encoded data removed]",
      "text/plain": [
       "<Figure size 432x288 with 2 Axes>"
      ]
     },
     "metadata": {},
     "output_type": "display_data"
    }
   ],
   "source": [
    "fig = plt.figure()\n",
    "\n",
    "ax1 = fig.add_subplot(1, 2, 1, ylim=(0,200000))\n",
    "ax2 = fig.add_subplot(1, 2, 2, ylim=(0,200000))\n",
    "\n",
    "sns.countplot(application_df['FLAG_OWN_CAR'], hue=application_df['TARGET'], order=['Y','N'], ax=ax1)\n",
    "sns.countplot(application_df['FLAG_OWN_REALTY'], hue=application_df['TARGET'], order=['Y','N'], ax=ax2)\n",
    "\n",
    "plt.tight_layout()\n",
    "\n",
    "plt.show()"
   ]
  },
  {
   "cell_type": "code",
   "execution_count": 41,
   "id": "d0986bc7",
   "metadata": {},
   "outputs": [
    {
     "data": {
      "image/png": "[encoded data removed]",
      "text/plain": [
       "<Figure size 432x288 with 2 Axes>"
      ]
     },
     "metadata": {},
     "output_type": "display_data"
    }
   ],
   "source": [
    "fig = plt.figure()\n",
    "\n",
    "ax1 = fig.add_subplot(1, 2, 1, ylim=(0,60000), title=\"Non-defaulter\")\n",
    "ax2 = fig.add_subplot(1, 2, 2, ylim=(0,60000), title=\"Defaulter\")\n",
    "\n",
    "non_default['OWN_CAR_AGE'].hist(bins=10, ax=ax1)\n",
    "default['OWN_CAR_AGE'].hist(bins=10, ax=ax2)\n",
    "\n",
    "plt.tight_layout()\n",
    "\n",
    "plt.show()"
   ]
  },
  {
   "cell_type": "markdown",
   "id": "c5648a73",
   "metadata": {},
   "source": [
    "#### Insights :-\n",
    "<ul>\n",
    "    <li>Most people between the age of 0 to 25 have cars irrespective of weather they are defaulter or not.</li>\n",
    "    <li> both target values are similar so this feature can also be dropped.</li>\n",
    "    <li>People not owning reality and car have a slightly higher default rate than the people who own reality and car.</li>"
   ]
  },
  {
   "cell_type": "markdown",
   "id": "77c3c5cf",
   "metadata": {},
   "source": [
    "### Segement 4 :- Based on documents submitted"
   ]
  },
  {
   "cell_type": "code",
   "execution_count": 42,
   "id": "1c4ddc95",
   "metadata": {},
   "outputs": [
    {
     "data": {
      "image/png": "[encoded data removed]",
      "text/plain": [
       "<Figure size 1296x864 with 2 Axes>"
      ]
     },
     "metadata": {},
     "output_type": "display_data"
    }
   ],
   "source": [
    "starting_idx = application_df.columns.get_loc(\"FLAG_DOCUMENT_2\")\n",
    "ending_idx = application_df.columns.get_loc(\"FLAG_DOCUMENT_21\")+1\n",
    "\n",
    "plt.figure(figsize=(18,12))\n",
    "sns.heatmap(application_df.iloc[:,starting_idx:ending_idx])\n",
    "plt.show()"
   ]
  },
  {
   "cell_type": "markdown",
   "id": "2e563607",
   "metadata": {},
   "source": [
    "#### Insights :- \n",
    "<ul>\n",
    "    <li>Document 3 has been submitted by almost every applicant.</li>\n",
    "    <li>We can asssume all other documents except document 3 will provide help in analyzing the data.</li>\n",
    "</ul>\n",
    "\n",
    "\n",
    "We will now reconfirm the importance of document 3."
   ]
  },
  {
   "cell_type": "code",
   "execution_count": 43,
   "id": "3f136bd8",
   "metadata": {},
   "outputs": [
    {
     "data": {
      "image/png": "[encoded data removed]",
      "text/plain": [
       "<Figure size 864x432 with 2 Axes>"
      ]
     },
     "metadata": {},
     "output_type": "display_data"
    }
   ],
   "source": [
    "fig = plt.figure(figsize=(12,6))\n",
    "\n",
    "ax1 = fig.add_subplot(1, 2, 1, ylim=(0,250000), title=\"Document-3 Submitted\")\n",
    "ax2 = fig.add_subplot(1, 2, 2, ylim=(0,250000), title=\"Document-3 Not Submitted\")\n",
    "\n",
    "sns.countplot(application_df[application_df[\"FLAG_DOCUMENT_3\"] == 0][\"TARGET\"], ax=ax1)\n",
    "sns.countplot(application_df[application_df[\"FLAG_DOCUMENT_3\"] == 1][\"TARGET\"], ax=ax2)\n",
    "\n",
    "plt.tight_layout()\n",
    "\n",
    "plt.show()"
   ]
  },
  {
   "cell_type": "markdown",
   "id": "c9680859",
   "metadata": {},
   "source": [
    "Lookig at the bar graph above, document 3 is shpwing similar trends for both defaulters and non-defaulters.\n",
    "\n",
    "Hence we can drop this column."
   ]
  },
  {
   "cell_type": "markdown",
   "id": "b175e2e5",
   "metadata": {},
   "source": [
    "### Segment 5 :- Based on education level or occupation"
   ]
  },
  {
   "cell_type": "code",
   "execution_count": 44,
   "id": "7802ecba",
   "metadata": {},
   "outputs": [
    {
     "data": {
      "image/png": "[encoded data removed]",
      "text/plain": [
       "<Figure size 432x288 with 1 Axes>"
      ]
     },
     "metadata": {},
     "output_type": "display_data"
    }
   ],
   "source": [
    "plt.figure()\n",
    "sns.countplot(application_df['NAME_INCOME_TYPE'], hue=application_df[\"TARGET\"])\n",
    "plt.xticks(rotation=90)\n",
    "plt.title(\"Income Type vs. Target\")\n",
    "plt.show()"
   ]
  },
  {
   "cell_type": "code",
   "execution_count": 46,
   "id": "6cd0fbec",
   "metadata": {},
   "outputs": [],
   "source": [
    "def value_wise_defaulter_percentage(df, col):\n",
    "    new_df = pd.DataFrame(columns=['Value', 'Percentage of Defaulter'])\n",
    "    \n",
    "    for value in df[col].unique():\n",
    "        default_cnt = df[(df[col] == value) & (df.TARGET == 1)].shape[0]\n",
    "        total_cnt = df[df[col] == value].shape[0]\n",
    "        new_df = new_df.append({'Value' : value , 'Percentage of Defaulter' : (default_cnt*100/total_cnt)}, ignore_index=True)\n",
    "    return new_df.sort_values(by='Percentage of Defaulter', ascending=False)"
   ]
  },
  {
   "cell_type": "code",
   "execution_count": 47,
   "id": "681a17a5",
   "metadata": {},
   "outputs": [
    {
     "data": {
      "text/html": [
       "<div>\n",
       "<style scoped>\n",
       "    .dataframe tbody tr th:only-of-type {\n",
       "        vertical-align: middle;\n",
       "    }\n",
       "\n",
       "    .dataframe tbody tr th {\n",
       "        vertical-align: top;\n",
       "    }\n",
       "\n",
       "    .dataframe thead th {\n",
       "        text-align: right;\n",
       "    }\n",
       "</style>\n",
       "<table border=\"1\" class=\"dataframe\">\n",
       "  <thead>\n",
       "    <tr style=\"text-align: right;\">\n",
       "      <th></th>\n",
       "      <th>Value</th>\n",
       "      <th>Percentage of Defaulter</th>\n",
       "    </tr>\n",
       "  </thead>\n",
       "  <tbody>\n",
       "    <tr>\n",
       "      <th>4</th>\n",
       "      <td>Unemployed</td>\n",
       "      <td>42.105263</td>\n",
       "    </tr>\n",
       "    <tr>\n",
       "      <th>7</th>\n",
       "      <td>Maternity leave</td>\n",
       "      <td>40.000000</td>\n",
       "    </tr>\n",
       "    <tr>\n",
       "      <th>0</th>\n",
       "      <td>Working</td>\n",
       "      <td>9.620506</td>\n",
       "    </tr>\n",
       "    <tr>\n",
       "      <th>2</th>\n",
       "      <td>Commercial associate</td>\n",
       "      <td>7.517586</td>\n",
       "    </tr>\n",
       "    <tr>\n",
       "      <th>1</th>\n",
       "      <td>State servant</td>\n",
       "      <td>5.761719</td>\n",
       "    </tr>\n",
       "    <tr>\n",
       "      <th>3</th>\n",
       "      <td>Pensioner</td>\n",
       "      <td>5.395598</td>\n",
       "    </tr>\n",
       "    <tr>\n",
       "      <th>5</th>\n",
       "      <td>Student</td>\n",
       "      <td>0.000000</td>\n",
       "    </tr>\n",
       "    <tr>\n",
       "      <th>6</th>\n",
       "      <td>Businessman</td>\n",
       "      <td>0.000000</td>\n",
       "    </tr>\n",
       "  </tbody>\n",
       "</table>\n",
       "</div>"
      ],
      "text/plain": [
       "                  Value  Percentage of Defaulter\n",
       "4            Unemployed                42.105263\n",
       "7       Maternity leave                40.000000\n",
       "0               Working                 9.620506\n",
       "2  Commercial associate                 7.517586\n",
       "1         State servant                 5.761719\n",
       "3             Pensioner                 5.395598\n",
       "5               Student                 0.000000\n",
       "6           Businessman                 0.000000"
      ]
     },
     "execution_count": 47,
     "metadata": {},
     "output_type": "execute_result"
    }
   ],
   "source": [
    "value_wise_defaulter_percentage(application_df,'NAME_INCOME_TYPE')"
   ]
  },
  {
   "cell_type": "code",
   "execution_count": 48,
   "id": "2f7c20bc",
   "metadata": {},
   "outputs": [
    {
     "data": {
      "text/html": [
       "<div>\n",
       "<style scoped>\n",
       "    .dataframe tbody tr th:only-of-type {\n",
       "        vertical-align: middle;\n",
       "    }\n",
       "\n",
       "    .dataframe tbody tr th {\n",
       "        vertical-align: top;\n",
       "    }\n",
       "\n",
       "    .dataframe thead th {\n",
       "        text-align: right;\n",
       "    }\n",
       "</style>\n",
       "<table border=\"1\" class=\"dataframe\">\n",
       "  <thead>\n",
       "    <tr style=\"text-align: right;\">\n",
       "      <th></th>\n",
       "      <th>Value</th>\n",
       "      <th>Percentage of Defaulter</th>\n",
       "    </tr>\n",
       "  </thead>\n",
       "  <tbody>\n",
       "    <tr>\n",
       "      <th>3</th>\n",
       "      <td>Lower secondary</td>\n",
       "      <td>10.897098</td>\n",
       "    </tr>\n",
       "    <tr>\n",
       "      <th>0</th>\n",
       "      <td>Secondary / secondary special</td>\n",
       "      <td>8.963349</td>\n",
       "    </tr>\n",
       "    <tr>\n",
       "      <th>2</th>\n",
       "      <td>Incomplete higher</td>\n",
       "      <td>8.501229</td>\n",
       "    </tr>\n",
       "    <tr>\n",
       "      <th>1</th>\n",
       "      <td>Higher education</td>\n",
       "      <td>5.381937</td>\n",
       "    </tr>\n",
       "    <tr>\n",
       "      <th>4</th>\n",
       "      <td>Academic degree</td>\n",
       "      <td>1.840491</td>\n",
       "    </tr>\n",
       "  </tbody>\n",
       "</table>\n",
       "</div>"
      ],
      "text/plain": [
       "                           Value  Percentage of Defaulter\n",
       "3                Lower secondary                10.897098\n",
       "0  Secondary / secondary special                 8.963349\n",
       "2              Incomplete higher                 8.501229\n",
       "1               Higher education                 5.381937\n",
       "4                Academic degree                 1.840491"
      ]
     },
     "execution_count": 48,
     "metadata": {},
     "output_type": "execute_result"
    }
   ],
   "source": [
    "value_wise_defaulter_percentage(application_df,'NAME_EDUCATION_TYPE')"
   ]
  },
  {
   "cell_type": "code",
   "execution_count": 51,
   "id": "02d3c148",
   "metadata": {},
   "outputs": [
    {
     "ename": "ZeroDivisionError",
     "evalue": "division by zero",
     "output_type": "error",
     "traceback": [
      "\u001b[1;31m---------------------------------------------------------------------------\u001b[0m",
      "\u001b[1;31mZeroDivisionError\u001b[0m                         Traceback (most recent call last)",
      "\u001b[1;32m<ipython-input-51-c368d444f237>\u001b[0m in \u001b[0;36m<module>\u001b[1;34m\u001b[0m\n\u001b[1;32m----> 1\u001b[1;33m \u001b[0mvalue_wise_defaulter_percentage\u001b[0m\u001b[1;33m(\u001b[0m\u001b[0mapplication_df\u001b[0m\u001b[1;33m,\u001b[0m \u001b[1;34m'OCCUPATION_TYPE'\u001b[0m\u001b[1;33m)\u001b[0m\u001b[1;33m\u001b[0m\u001b[1;33m\u001b[0m\u001b[0m\n\u001b[0m",
      "\u001b[1;32m<ipython-input-46-83dad9d94a02>\u001b[0m in \u001b[0;36mvalue_wise_defaulter_percentage\u001b[1;34m(df, col)\u001b[0m\n\u001b[0;32m      5\u001b[0m         \u001b[0mdefault_cnt\u001b[0m \u001b[1;33m=\u001b[0m \u001b[0mdf\u001b[0m\u001b[1;33m[\u001b[0m\u001b[1;33m(\u001b[0m\u001b[0mdf\u001b[0m\u001b[1;33m[\u001b[0m\u001b[0mcol\u001b[0m\u001b[1;33m]\u001b[0m \u001b[1;33m==\u001b[0m \u001b[0mvalue\u001b[0m\u001b[1;33m)\u001b[0m \u001b[1;33m&\u001b[0m \u001b[1;33m(\u001b[0m\u001b[0mdf\u001b[0m\u001b[1;33m.\u001b[0m\u001b[0mTARGET\u001b[0m \u001b[1;33m==\u001b[0m \u001b[1;36m1\u001b[0m\u001b[1;33m)\u001b[0m\u001b[1;33m]\u001b[0m\u001b[1;33m.\u001b[0m\u001b[0mshape\u001b[0m\u001b[1;33m[\u001b[0m\u001b[1;36m0\u001b[0m\u001b[1;33m]\u001b[0m\u001b[1;33m\u001b[0m\u001b[1;33m\u001b[0m\u001b[0m\n\u001b[0;32m      6\u001b[0m         \u001b[0mtotal_cnt\u001b[0m \u001b[1;33m=\u001b[0m \u001b[0mdf\u001b[0m\u001b[1;33m[\u001b[0m\u001b[0mdf\u001b[0m\u001b[1;33m[\u001b[0m\u001b[0mcol\u001b[0m\u001b[1;33m]\u001b[0m \u001b[1;33m==\u001b[0m \u001b[0mvalue\u001b[0m\u001b[1;33m]\u001b[0m\u001b[1;33m.\u001b[0m\u001b[0mshape\u001b[0m\u001b[1;33m[\u001b[0m\u001b[1;36m0\u001b[0m\u001b[1;33m]\u001b[0m\u001b[1;33m\u001b[0m\u001b[1;33m\u001b[0m\u001b[0m\n\u001b[1;32m----> 7\u001b[1;33m         \u001b[0mnew_df\u001b[0m \u001b[1;33m=\u001b[0m \u001b[0mnew_df\u001b[0m\u001b[1;33m.\u001b[0m\u001b[0mappend\u001b[0m\u001b[1;33m(\u001b[0m\u001b[1;33m{\u001b[0m\u001b[1;34m'Value'\u001b[0m \u001b[1;33m:\u001b[0m \u001b[0mvalue\u001b[0m \u001b[1;33m,\u001b[0m \u001b[1;34m'Percentage of Defaulter'\u001b[0m \u001b[1;33m:\u001b[0m \u001b[1;33m(\u001b[0m\u001b[0mdefault_cnt\u001b[0m\u001b[1;33m*\u001b[0m\u001b[1;36m100\u001b[0m\u001b[1;33m/\u001b[0m\u001b[0mtotal_cnt\u001b[0m\u001b[1;33m)\u001b[0m\u001b[1;33m}\u001b[0m\u001b[1;33m,\u001b[0m \u001b[0mignore_index\u001b[0m\u001b[1;33m=\u001b[0m\u001b[1;32mTrue\u001b[0m\u001b[1;33m)\u001b[0m\u001b[1;33m\u001b[0m\u001b[1;33m\u001b[0m\u001b[0m\n\u001b[0m\u001b[0;32m      8\u001b[0m     \u001b[1;32mreturn\u001b[0m \u001b[0mnew_df\u001b[0m\u001b[1;33m.\u001b[0m\u001b[0msort_values\u001b[0m\u001b[1;33m(\u001b[0m\u001b[0mby\u001b[0m\u001b[1;33m=\u001b[0m\u001b[1;34m'Percentage of Defaulter'\u001b[0m\u001b[1;33m,\u001b[0m \u001b[0mascending\u001b[0m\u001b[1;33m=\u001b[0m\u001b[1;32mFalse\u001b[0m\u001b[1;33m)\u001b[0m\u001b[1;33m\u001b[0m\u001b[1;33m\u001b[0m\u001b[0m\n",
      "\u001b[1;31mZeroDivisionError\u001b[0m: division by zero"
     ]
    }
   ],
   "source": [
    "value_wise_defaulter_percentage(application_df, 'OCCUPATION_TYPE')"
   ]
  },
  {
   "cell_type": "code",
   "execution_count": 52,
   "id": "bfa3c19b",
   "metadata": {},
   "outputs": [
    {
     "data": {
      "text/plain": [
       "False    209096\n",
       "True      95435\n",
       "Name: OCCUPATION_TYPE, dtype: int64"
      ]
     },
     "execution_count": 52,
     "metadata": {},
     "output_type": "execute_result"
    }
   ],
   "source": [
    "application_df['OCCUPATION_TYPE'].isnull().value_counts()"
   ]
  },
  {
   "cell_type": "code",
   "execution_count": 53,
   "id": "adadb9cd",
   "metadata": {},
   "outputs": [
    {
     "data": {
      "text/plain": [
       "Laborers                 54730\n",
       "Sales staff              31790\n",
       "Core staff               27263\n",
       "Managers                 21114\n",
       "Drivers                  18456\n",
       "High skill tech staff    11261\n",
       "Accountants               9698\n",
       "Medicine staff            8459\n",
       "Security staff            6667\n",
       "Cooking staff             5898\n",
       "Cleaning staff            4615\n",
       "Private service staff     2629\n",
       "Low-skill Laborers        2077\n",
       "Waiters/barmen staff      1335\n",
       "Secretaries               1293\n",
       "Realty agents              742\n",
       "HR staff                   558\n",
       "IT staff                   511\n",
       "Name: OCCUPATION_TYPE, dtype: int64"
      ]
     },
     "execution_count": 53,
     "metadata": {},
     "output_type": "execute_result"
    }
   ],
   "source": [
    "application_df['OCCUPATION_TYPE'].value_counts()"
   ]
  },
  {
   "cell_type": "code",
   "execution_count": 54,
   "id": "e09c14e1",
   "metadata": {},
   "outputs": [],
   "source": [
    "# Imputing missing value for OCCUPATION TYPE as \"Unknown\"\n",
    "\n",
    "application_df['OCCUPATION_TYPE'].fillna(\"Unknown\", inplace=True)"
   ]
  },
  {
   "cell_type": "code",
   "execution_count": 55,
   "id": "0579e79c",
   "metadata": {},
   "outputs": [
    {
     "data": {
      "text/html": [
       "<div>\n",
       "<style scoped>\n",
       "    .dataframe tbody tr th:only-of-type {\n",
       "        vertical-align: middle;\n",
       "    }\n",
       "\n",
       "    .dataframe tbody tr th {\n",
       "        vertical-align: top;\n",
       "    }\n",
       "\n",
       "    .dataframe thead th {\n",
       "        text-align: right;\n",
       "    }\n",
       "</style>\n",
       "<table border=\"1\" class=\"dataframe\">\n",
       "  <thead>\n",
       "    <tr style=\"text-align: right;\">\n",
       "      <th></th>\n",
       "      <th>Value</th>\n",
       "      <th>Percentage of Defaulter</th>\n",
       "    </tr>\n",
       "  </thead>\n",
       "  <tbody>\n",
       "    <tr>\n",
       "      <th>14</th>\n",
       "      <td>Low-skill Laborers</td>\n",
       "      <td>17.284545</td>\n",
       "    </tr>\n",
       "    <tr>\n",
       "      <th>13</th>\n",
       "      <td>Waiters/barmen staff</td>\n",
       "      <td>11.385768</td>\n",
       "    </tr>\n",
       "    <tr>\n",
       "      <th>5</th>\n",
       "      <td>Drivers</td>\n",
       "      <td>11.367577</td>\n",
       "    </tr>\n",
       "    <tr>\n",
       "      <th>11</th>\n",
       "      <td>Security staff</td>\n",
       "      <td>10.754462</td>\n",
       "    </tr>\n",
       "    <tr>\n",
       "      <th>0</th>\n",
       "      <td>Laborers</td>\n",
       "      <td>10.608441</td>\n",
       "    </tr>\n",
       "    <tr>\n",
       "      <th>8</th>\n",
       "      <td>Cooking staff</td>\n",
       "      <td>10.512038</td>\n",
       "    </tr>\n",
       "    <tr>\n",
       "      <th>7</th>\n",
       "      <td>Cleaning staff</td>\n",
       "      <td>9.642470</td>\n",
       "    </tr>\n",
       "    <tr>\n",
       "      <th>6</th>\n",
       "      <td>Sales staff</td>\n",
       "      <td>9.635105</td>\n",
       "    </tr>\n",
       "    <tr>\n",
       "      <th>15</th>\n",
       "      <td>Realty agents</td>\n",
       "      <td>7.951482</td>\n",
       "    </tr>\n",
       "    <tr>\n",
       "      <th>16</th>\n",
       "      <td>Secretaries</td>\n",
       "      <td>7.115236</td>\n",
       "    </tr>\n",
       "    <tr>\n",
       "      <th>10</th>\n",
       "      <td>Medicine staff</td>\n",
       "      <td>6.691098</td>\n",
       "    </tr>\n",
       "    <tr>\n",
       "      <th>17</th>\n",
       "      <td>IT staff</td>\n",
       "      <td>6.653620</td>\n",
       "    </tr>\n",
       "    <tr>\n",
       "      <th>9</th>\n",
       "      <td>Private service staff</td>\n",
       "      <td>6.542412</td>\n",
       "    </tr>\n",
       "    <tr>\n",
       "      <th>4</th>\n",
       "      <td>Unknown</td>\n",
       "      <td>6.534290</td>\n",
       "    </tr>\n",
       "    <tr>\n",
       "      <th>1</th>\n",
       "      <td>Core staff</td>\n",
       "      <td>6.330925</td>\n",
       "    </tr>\n",
       "    <tr>\n",
       "      <th>3</th>\n",
       "      <td>Managers</td>\n",
       "      <td>6.251776</td>\n",
       "    </tr>\n",
       "    <tr>\n",
       "      <th>12</th>\n",
       "      <td>High skill tech staff</td>\n",
       "      <td>6.180623</td>\n",
       "    </tr>\n",
       "    <tr>\n",
       "      <th>18</th>\n",
       "      <td>HR staff</td>\n",
       "      <td>6.093190</td>\n",
       "    </tr>\n",
       "    <tr>\n",
       "      <th>2</th>\n",
       "      <td>Accountants</td>\n",
       "      <td>4.866983</td>\n",
       "    </tr>\n",
       "  </tbody>\n",
       "</table>\n",
       "</div>"
      ],
      "text/plain": [
       "                    Value  Percentage of Defaulter\n",
       "14     Low-skill Laborers                17.284545\n",
       "13   Waiters/barmen staff                11.385768\n",
       "5                 Drivers                11.367577\n",
       "11         Security staff                10.754462\n",
       "0                Laborers                10.608441\n",
       "8           Cooking staff                10.512038\n",
       "7          Cleaning staff                 9.642470\n",
       "6             Sales staff                 9.635105\n",
       "15          Realty agents                 7.951482\n",
       "16            Secretaries                 7.115236\n",
       "10         Medicine staff                 6.691098\n",
       "17               IT staff                 6.653620\n",
       "9   Private service staff                 6.542412\n",
       "4                 Unknown                 6.534290\n",
       "1              Core staff                 6.330925\n",
       "3                Managers                 6.251776\n",
       "12  High skill tech staff                 6.180623\n",
       "18               HR staff                 6.093190\n",
       "2             Accountants                 4.866983"
      ]
     },
     "execution_count": 55,
     "metadata": {},
     "output_type": "execute_result"
    }
   ],
   "source": [
    "value_wise_defaulter_percentage(application_df, 'OCCUPATION_TYPE')"
   ]
  },
  {
   "cell_type": "code",
   "execution_count": 56,
   "id": "2d753676",
   "metadata": {},
   "outputs": [
    {
     "data": {
      "image/png": "[encoded data removed]",
      "text/plain": [
       "<Figure size 432x288 with 1 Axes>"
      ]
     },
     "metadata": {},
     "output_type": "display_data"
    }
   ],
   "source": [
    "sns.countplot(application_df['CODE_GENDER'], hue=application_df[\"TARGET\"])\n",
    "plt.show()"
   ]
  },
  {
   "cell_type": "code",
   "execution_count": 57,
   "id": "eaee0a34",
   "metadata": {},
   "outputs": [
    {
     "data": {
      "text/html": [
       "<div>\n",
       "<style scoped>\n",
       "    .dataframe tbody tr th:only-of-type {\n",
       "        vertical-align: middle;\n",
       "    }\n",
       "\n",
       "    .dataframe tbody tr th {\n",
       "        vertical-align: top;\n",
       "    }\n",
       "\n",
       "    .dataframe thead th {\n",
       "        text-align: right;\n",
       "    }\n",
       "</style>\n",
       "<table border=\"1\" class=\"dataframe\">\n",
       "  <thead>\n",
       "    <tr style=\"text-align: right;\">\n",
       "      <th></th>\n",
       "      <th>Value</th>\n",
       "      <th>Percentage of Defaulter</th>\n",
       "    </tr>\n",
       "  </thead>\n",
       "  <tbody>\n",
       "    <tr>\n",
       "      <th>0</th>\n",
       "      <td>M</td>\n",
       "      <td>10.191744</td>\n",
       "    </tr>\n",
       "    <tr>\n",
       "      <th>1</th>\n",
       "      <td>F</td>\n",
       "      <td>7.014595</td>\n",
       "    </tr>\n",
       "    <tr>\n",
       "      <th>2</th>\n",
       "      <td>XNA</td>\n",
       "      <td>0.000000</td>\n",
       "    </tr>\n",
       "  </tbody>\n",
       "</table>\n",
       "</div>"
      ],
      "text/plain": [
       "  Value  Percentage of Defaulter\n",
       "0     M                10.191744\n",
       "1     F                 7.014595\n",
       "2   XNA                 0.000000"
      ]
     },
     "execution_count": 57,
     "metadata": {},
     "output_type": "execute_result"
    }
   ],
   "source": [
    "value_wise_defaulter_percentage(application_df, 'CODE_GENDER')"
   ]
  },
  {
   "cell_type": "markdown",
   "id": "ae4656b0",
   "metadata": {},
   "source": [
    "#### Insights :-\n",
    "<ul>\n",
    "    <li>Applicants that are on maternity leave or unemployeed are mst likely to be defaulter.</li>\n",
    "    <li>Businessmen and studennts have lowest default rate (zero).</li>\n",
    "    <li>Applicants that have \"Lower secondary\" education are most likely to be defaulter as compared to others.</li>\n",
    "    <li>Low skilled labourers have very high rate of defaulters.</li>\n",
    "    <li> Although there are more female applicants but male aplicants are more likely to be defaulter than famale applicants</li>"
   ]
  },
  {
   "cell_type": "markdown",
   "id": "e8cc9eeb",
   "metadata": {},
   "source": [
    "# 5) Correlation"
   ]
  },
  {
   "cell_type": "markdown",
   "id": "52e8d6d5",
   "metadata": {},
   "source": [
    "### a) Top 5 correlation for defaulters"
   ]
  },
  {
   "cell_type": "code",
   "execution_count": 61,
   "id": "a527652f",
   "metadata": {},
   "outputs": [
    {
     "data": {
      "text/plain": [
       "SK_ID_CURR                SK_ID_CURR                  1.000000\n",
       "OBS_30_CNT_SOCIAL_CIRCLE  OBS_60_CNT_SOCIAL_CIRCLE    0.998286\n",
       "BASEMENTAREA_MEDI         BASEMENTAREA_AVG            0.998205\n",
       "YEARS_BUILD_MEDI          YEARS_BUILD_AVG             0.998090\n",
       "COMMONAREA_MEDI           COMMONAREA_AVG              0.998085\n",
       "NONLIVINGAPARTMENTS_AVG   NONLIVINGAPARTMENTS_MEDI    0.998053\n",
       "dtype: float64"
      ]
     },
     "execution_count": 61,
     "metadata": {},
     "output_type": "execute_result"
    }
   ],
   "source": [
    "defaulter_corr = default.corr()\n",
    "round(defaulter_corr, 2)\n",
    "\n",
    "corr_list = defaulter_corr.unstack()\n",
    "\n",
    "# Listing the correlations in pair sorted in descending order\n",
    "corr_list.sort_values(ascending=False).drop_duplicates().head(6)"
   ]
  },
  {
   "cell_type": "markdown",
   "id": "158fbc67",
   "metadata": {},
   "source": [
    "#### Top 10 Correlations for Defaulters\n",
    "<ol>\n",
    "<li>(OBS_60_CNT_SOCIAL_CIRCLE, OBS_30_CNT_SOCIAL_CIRCLE)</li>\n",
    "<li>(BASEMENTAREA_MEDI, BASEMENTAREA_AVG)</li>\n",
    "<li>(YEARS_BUILD_MEDI, YEARS_BUILD_AVG)</li>\n",
    "<li>(COMMONAREA_MEDI, COMMONAREA_AVG)\n",
    "<li>(NONLININGAPARTMENTS_AVG, NONLININGAPARTMENTS_MEDI)</li>\n",
    "</ol>"
   ]
  },
  {
   "cell_type": "markdown",
   "id": "98f8d1a6",
   "metadata": {},
   "source": [
    "### b) Top 5 correlation for non-defaulters"
   ]
  },
  {
   "cell_type": "code",
   "execution_count": 60,
   "id": "c453f1fd",
   "metadata": {},
   "outputs": [
    {
     "data": {
      "text/plain": [
       "SK_ID_CURR                SK_ID_CURR                  1.000000\n",
       "YEARS_BUILD_AVG           YEARS_BUILD_MEDI            0.998519\n",
       "OBS_30_CNT_SOCIAL_CIRCLE  OBS_60_CNT_SOCIAL_CIRCLE    0.998513\n",
       "FLOORSMIN_AVG             FLOORSMIN_MEDI              0.997215\n",
       "FLOORSMAX_MEDI            FLOORSMAX_AVG               0.997032\n",
       "ENTRANCES_MEDI            ENTRANCES_AVG               0.996910\n",
       "dtype: float64"
      ]
     },
     "execution_count": 60,
     "metadata": {},
     "output_type": "execute_result"
    }
   ],
   "source": [
    "nondefaulter_corr = non_default.corr()\n",
    "round(nondefaulter_corr, 2)\n",
    "\n",
    "nondf_corr_list = nondefaulter_corr.unstack()\n",
    "\n",
    "# Listing the correlations in pair sorted in descending order\n",
    "nondf_corr_list.sort_values(ascending=False).drop_duplicates().head(6)"
   ]
  },
  {
   "cell_type": "markdown",
   "id": "db37ca6f",
   "metadata": {},
   "source": [
    "#### Top 10 Correlations for Non-Defaulters\n",
    "<ol>\n",
    "<li>(YEARS_BUILD_AVG, YEARS_BUILD_MEDI)</li>\n",
    "<li>(OBS_30_CNT_SOCIAL_CIRCLE, OBS_60_CNT_SOCIAL_CIRCLE)</li>\n",
    "<li>(FLOORSMIN_AVG, FLOORSMIN_MEDI)</li>\n",
    "<li>(FLOORSMAX_MEDI, FLOORSMAX_AVG)</li>\n",
    "<li>(ENTRANCES_MEDI, ENTRANCES_AVG)</li>\n",
    "</ol>"
   ]
  },
  {
   "cell_type": "markdown",
   "id": "805b3f3d",
   "metadata": {},
   "source": [
    "# 6) Summary\n",
    "\n",
    "<ol>\n",
    "<li> This data is highly imbalanced.</li>\n",
    "    \n",
    "<li> Based on region : Defaulter rate is highest when permanent address and working address is same.</li>\n",
    "\n",
    "<li> Based on Contact : Considered 'FLAG_MOBIL','FLAG_EMP_PHONE' etc for this segment. No impact on Target, features can be dropped.</li>\n",
    "\n",
    "<li> Most of the applicants own realty, most of the applicants do not own cars, people not owning reality and car and have a slightly higher default rate than the people who own reality and car.</li>\n",
    "\n",
    "<li> Based on Documents : Majority of the applicants did not submit any documents apart from DOCUMENT_3. FLAG_DOCUMENT_3 has similar impact on defaulters and non-defaulters. Hence this column can be dropped.\n",
    "\n",
    "<li>Applicants that are either low skilled labour or have attained lower secondary education or that are unemployed have higher rates of being a defaulter.</li>\n",
    "</ol>"
   ]
  },
  {
   "cell_type": "code",
   "execution_count": null,
   "id": "0170f12a",
   "metadata": {},
   "outputs": [],
   "source": []
  }
 ],
 "metadata": {
  "kernelspec": {
   "display_name": "Python 3",
   "language": "python",
   "name": "python3"
  },
  "language_info": {
   "codemirror_mode": {
    "name": "ipython",
    "version": 3
   },
   "file_extension": ".py",
   "mimetype": "text/x-python",
   "name": "python",
   "nbconvert_exporter": "python",
   "pygments_lexer": "ipython3",
   "version": "3.8.8"
  }
 },
 "nbformat": 4,
 "nbformat_minor": 5
}
